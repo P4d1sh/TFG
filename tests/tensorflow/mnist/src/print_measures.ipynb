{
 "metadata": {
  "language_info": {
   "codemirror_mode": {
    "name": "ipython",
    "version": 3
   },
   "file_extension": ".py",
   "mimetype": "text/x-python",
   "name": "python",
   "nbconvert_exporter": "python",
   "pygments_lexer": "ipython3",
   "version": "3.8.5"
  },
  "orig_nbformat": 2,
  "kernelspec": {
   "name": "python385jvsc74a57bd08d466f5fa6fb18530bca1f949177b1fcfe59f60d945432f26594dff26bd69283",
   "display_name": "Python 3.8.5 64-bit ('py3_tensorflow_env': venv)"
  },
  "metadata": {
   "interpreter": {
    "hash": "8d466f5fa6fb18530bca1f949177b1fcfe59f60d945432f26594dff26bd69283"
   }
  }
 },
 "nbformat": 4,
 "nbformat_minor": 2,
 "cells": [
  {
   "cell_type": "code",
   "execution_count": 1,
   "metadata": {},
   "outputs": [],
   "source": [
    "import numpy as np\n",
    "import pandas as pd\n",
    "import pathlib\n",
    "import sys\n",
    "\n",
    "# Absolute path to this file\n",
    "MY_PAPI_DIR = pathlib.Path().absolute()\n",
    "# Now, we have to move to the root of this workspace ([prev. path]/TFG)\n",
    "MY_PAPI_DIR = MY_PAPI_DIR.parent.parent.parent.parent.absolute()\n",
    "# From the root (TFG/) access to my_papi dir. and its content\n",
    "MY_PAPI_DIR = MY_PAPI_DIR / \"my_papi\"\n",
    "# Folder where the configuration files are located\n",
    "CFG_DIR = MY_PAPI_DIR / \"conf\"\n",
    "# Folder where the library is located\n",
    "LIB_DIR = MY_PAPI_DIR / \"lib\"\n",
    "# Folder where the source codes are located\n",
    "SRC_DIR = MY_PAPI_DIR / \"src\"\n",
    "\n",
    "# Add the source path and import the library\n",
    "sys.path.insert(0, str(SRC_DIR))\n",
    "from MyPapi import *"
   ]
  },
  {
   "cell_type": "code",
   "execution_count": 2,
   "metadata": {},
   "outputs": [],
   "source": [
    "def df_from_csv(csv_file):\n",
    "    # Read csv with the following name of columns\n",
    "    df = pd.read_csv(csv_file, header=None, sep=\":\", names=[\"CPU\", \"Value\", \"Unit\", \"Event Name\"])\n",
    "\n",
    "    # Get the rows which have no 0 values\n",
    "    df = df[df.Value != 0]\n",
    "\n",
    "    # Define the number of epochs and number of measures\n",
    "    num_epochs = 30\n",
    "    num_measures = 5\n",
    "\n",
    "    # Get the events measured\n",
    "    events = df[\"Event Name\"].unique()\n",
    "\n",
    "    # Split the Dataframe in num_measures\n",
    "    arrs = np.array_split(df, num_measures)\n",
    "\n",
    "    # Store that mean columns in a new Dataframe\n",
    "    data = []\n",
    "    headers = []\n",
    "    i = 0\n",
    "    # Calculate the mean of each iteration\n",
    "    for arr in arrs:\n",
    "        arr = arr.reset_index(drop=True)\n",
    "        arr['Avg'] = arr.groupby('Event Name')['Value'].transform('sum')\n",
    "        i = i + 1\n",
    "        headers.append(\"Measure_\" + str(i))\n",
    "        data.append(arr['Avg'].head(len(events)))\n",
    "\n",
    "    # Creates a new df from the avg of the iters\n",
    "    df = pd.concat(data, axis=1, keys=headers)\n",
    "\n",
    "    # Add the events names\n",
    "    df.insert(0, 'Event Name', events)\n",
    "\n",
    "    # Creates a new avg column from all the measures\n",
    "    df['Avg'] = df.mean(axis=1)\n",
    "    return df"
   ]
  },
  {
   "cell_type": "code",
   "execution_count": 3,
   "metadata": {},
   "outputs": [
    {
     "output_type": "execute_result",
     "data": {
      "text/plain": [
       "                                 Event Name     Measure_1     Measure_2  \\\n",
       "0                PERF_COUNT_HW_INSTRUCTIONS  193532612763  191722933694   \n",
       "1         PERF_COUNT_HW_BRANCH_INSTRUCTIONS   16637978284   16420111891   \n",
       "2                           L1-DCACHE-LOADS   67197413612   66654715550   \n",
       "3                          L1-DCACHE-STORES   15638234031   15191754159   \n",
       "4       fp_arith_inst_retired.scalar_double     247316414     247112323   \n",
       "5       fp_arith_inst_retired.scalar_single     154688753     154688753   \n",
       "6  fp_arith_inst_retired.128b_packed_single      15056280      15056280   \n",
       "7  fp_arith_inst_retired.256b_packed_single       3403140       3403140   \n",
       "8  fp_arith_inst_retired.512b_packed_single  122693346870  122693346870   \n",
       "\n",
       "      Measure_3     Measure_4     Measure_5           Avg  \n",
       "0  193274627483  193088825159  191796478519  1.926831e+11  \n",
       "1   16585350509   16537362003   16438151694  1.652379e+10  \n",
       "2   67136605844   67102454857   66676152816  6.695347e+10  \n",
       "3   15620269336   15612795448   15199728296  1.545256e+10  \n",
       "4     247317042     247318820     247108318  2.472346e+08  \n",
       "5     154688753     154688753     154688753  1.546888e+08  \n",
       "6      15056280      15056280      15056280  1.505628e+07  \n",
       "7       3403140       3403140       3403140  3.403140e+06  \n",
       "8  122693346870  122693346870  122693346870  1.226933e+11  "
      ],
      "text/html": "<div>\n<style scoped>\n    .dataframe tbody tr th:only-of-type {\n        vertical-align: middle;\n    }\n\n    .dataframe tbody tr th {\n        vertical-align: top;\n    }\n\n    .dataframe thead th {\n        text-align: right;\n    }\n</style>\n<table border=\"1\" class=\"dataframe\">\n  <thead>\n    <tr style=\"text-align: right;\">\n      <th></th>\n      <th>Event Name</th>\n      <th>Measure_1</th>\n      <th>Measure_2</th>\n      <th>Measure_3</th>\n      <th>Measure_4</th>\n      <th>Measure_5</th>\n      <th>Avg</th>\n    </tr>\n  </thead>\n  <tbody>\n    <tr>\n      <th>0</th>\n      <td>PERF_COUNT_HW_INSTRUCTIONS</td>\n      <td>193532612763</td>\n      <td>191722933694</td>\n      <td>193274627483</td>\n      <td>193088825159</td>\n      <td>191796478519</td>\n      <td>1.926831e+11</td>\n    </tr>\n    <tr>\n      <th>1</th>\n      <td>PERF_COUNT_HW_BRANCH_INSTRUCTIONS</td>\n      <td>16637978284</td>\n      <td>16420111891</td>\n      <td>16585350509</td>\n      <td>16537362003</td>\n      <td>16438151694</td>\n      <td>1.652379e+10</td>\n    </tr>\n    <tr>\n      <th>2</th>\n      <td>L1-DCACHE-LOADS</td>\n      <td>67197413612</td>\n      <td>66654715550</td>\n      <td>67136605844</td>\n      <td>67102454857</td>\n      <td>66676152816</td>\n      <td>6.695347e+10</td>\n    </tr>\n    <tr>\n      <th>3</th>\n      <td>L1-DCACHE-STORES</td>\n      <td>15638234031</td>\n      <td>15191754159</td>\n      <td>15620269336</td>\n      <td>15612795448</td>\n      <td>15199728296</td>\n      <td>1.545256e+10</td>\n    </tr>\n    <tr>\n      <th>4</th>\n      <td>fp_arith_inst_retired.scalar_double</td>\n      <td>247316414</td>\n      <td>247112323</td>\n      <td>247317042</td>\n      <td>247318820</td>\n      <td>247108318</td>\n      <td>2.472346e+08</td>\n    </tr>\n    <tr>\n      <th>5</th>\n      <td>fp_arith_inst_retired.scalar_single</td>\n      <td>154688753</td>\n      <td>154688753</td>\n      <td>154688753</td>\n      <td>154688753</td>\n      <td>154688753</td>\n      <td>1.546888e+08</td>\n    </tr>\n    <tr>\n      <th>6</th>\n      <td>fp_arith_inst_retired.128b_packed_single</td>\n      <td>15056280</td>\n      <td>15056280</td>\n      <td>15056280</td>\n      <td>15056280</td>\n      <td>15056280</td>\n      <td>1.505628e+07</td>\n    </tr>\n    <tr>\n      <th>7</th>\n      <td>fp_arith_inst_retired.256b_packed_single</td>\n      <td>3403140</td>\n      <td>3403140</td>\n      <td>3403140</td>\n      <td>3403140</td>\n      <td>3403140</td>\n      <td>3.403140e+06</td>\n    </tr>\n    <tr>\n      <th>8</th>\n      <td>fp_arith_inst_retired.512b_packed_single</td>\n      <td>122693346870</td>\n      <td>122693346870</td>\n      <td>122693346870</td>\n      <td>122693346870</td>\n      <td>122693346870</td>\n      <td>1.226933e+11</td>\n    </tr>\n  </tbody>\n</table>\n</div>"
     },
     "metadata": {},
     "execution_count": 3
    }
   ],
   "source": [
    "# Time to print the values of the measure M1\n",
    "#pd.set_option('display.width', 200)\n",
    "\n",
    "# Name of csv file\n",
    "csv_file = \"/home/jlpadillas01/TFG/tests/tensorflow/mnist/out/mnist_train_papi.csv\"\n",
    "\n",
    "df1 = df_from_csv(csv_file)\n",
    "df1"
   ]
  },
  {
   "cell_type": "code",
   "execution_count": 4,
   "metadata": {},
   "outputs": [
    {
     "output_type": "execute_result",
     "data": {
      "text/plain": [
       "                                 Event Name     Measure_1     Measure_2  \\\n",
       "0                PERF_COUNT_HW_INSTRUCTIONS  193348191211  191548125053   \n",
       "1         PERF_COUNT_HW_BRANCH_INSTRUCTIONS   16622251581   16399300908   \n",
       "2                           L1-DCACHE-LOADS   67139940133   66622156153   \n",
       "3                          L1-DCACHE-STORES   15615410143   15195885986   \n",
       "4       fp_arith_inst_retired.scalar_double     247318651     247116172   \n",
       "5       fp_arith_inst_retired.scalar_single     154688753     154688753   \n",
       "6  fp_arith_inst_retired.128b_packed_single      15056280      15056280   \n",
       "7  fp_arith_inst_retired.256b_packed_single       3403140       3403140   \n",
       "8  fp_arith_inst_retired.512b_packed_single  122693346870  122693346870   \n",
       "\n",
       "      Measure_3     Measure_4     Measure_5           Avg  \n",
       "0  193282675683  193303688563  193141257833  1.929248e+11  \n",
       "1   16609379322   16613014698   16573047894  1.656340e+10  \n",
       "2   67126302193   67126573565   67106292252  6.702425e+10  \n",
       "3   15611010058   15639401699   15616753098  1.553569e+10  \n",
       "4     247323240     247323978     247323807  2.472812e+08  \n",
       "5     154688753     154688753     154688753  1.546888e+08  \n",
       "6      15056280      15056280      15056280  1.505628e+07  \n",
       "7       3403140       3403140       3403140  3.403140e+06  \n",
       "8  122693346870  122693346870  122693346870  1.226933e+11  "
      ],
      "text/html": "<div>\n<style scoped>\n    .dataframe tbody tr th:only-of-type {\n        vertical-align: middle;\n    }\n\n    .dataframe tbody tr th {\n        vertical-align: top;\n    }\n\n    .dataframe thead th {\n        text-align: right;\n    }\n</style>\n<table border=\"1\" class=\"dataframe\">\n  <thead>\n    <tr style=\"text-align: right;\">\n      <th></th>\n      <th>Event Name</th>\n      <th>Measure_1</th>\n      <th>Measure_2</th>\n      <th>Measure_3</th>\n      <th>Measure_4</th>\n      <th>Measure_5</th>\n      <th>Avg</th>\n    </tr>\n  </thead>\n  <tbody>\n    <tr>\n      <th>0</th>\n      <td>PERF_COUNT_HW_INSTRUCTIONS</td>\n      <td>193348191211</td>\n      <td>191548125053</td>\n      <td>193282675683</td>\n      <td>193303688563</td>\n      <td>193141257833</td>\n      <td>1.929248e+11</td>\n    </tr>\n    <tr>\n      <th>1</th>\n      <td>PERF_COUNT_HW_BRANCH_INSTRUCTIONS</td>\n      <td>16622251581</td>\n      <td>16399300908</td>\n      <td>16609379322</td>\n      <td>16613014698</td>\n      <td>16573047894</td>\n      <td>1.656340e+10</td>\n    </tr>\n    <tr>\n      <th>2</th>\n      <td>L1-DCACHE-LOADS</td>\n      <td>67139940133</td>\n      <td>66622156153</td>\n      <td>67126302193</td>\n      <td>67126573565</td>\n      <td>67106292252</td>\n      <td>6.702425e+10</td>\n    </tr>\n    <tr>\n      <th>3</th>\n      <td>L1-DCACHE-STORES</td>\n      <td>15615410143</td>\n      <td>15195885986</td>\n      <td>15611010058</td>\n      <td>15639401699</td>\n      <td>15616753098</td>\n      <td>1.553569e+10</td>\n    </tr>\n    <tr>\n      <th>4</th>\n      <td>fp_arith_inst_retired.scalar_double</td>\n      <td>247318651</td>\n      <td>247116172</td>\n      <td>247323240</td>\n      <td>247323978</td>\n      <td>247323807</td>\n      <td>2.472812e+08</td>\n    </tr>\n    <tr>\n      <th>5</th>\n      <td>fp_arith_inst_retired.scalar_single</td>\n      <td>154688753</td>\n      <td>154688753</td>\n      <td>154688753</td>\n      <td>154688753</td>\n      <td>154688753</td>\n      <td>1.546888e+08</td>\n    </tr>\n    <tr>\n      <th>6</th>\n      <td>fp_arith_inst_retired.128b_packed_single</td>\n      <td>15056280</td>\n      <td>15056280</td>\n      <td>15056280</td>\n      <td>15056280</td>\n      <td>15056280</td>\n      <td>1.505628e+07</td>\n    </tr>\n    <tr>\n      <th>7</th>\n      <td>fp_arith_inst_retired.256b_packed_single</td>\n      <td>3403140</td>\n      <td>3403140</td>\n      <td>3403140</td>\n      <td>3403140</td>\n      <td>3403140</td>\n      <td>3.403140e+06</td>\n    </tr>\n    <tr>\n      <th>8</th>\n      <td>fp_arith_inst_retired.512b_packed_single</td>\n      <td>122693346870</td>\n      <td>122693346870</td>\n      <td>122693346870</td>\n      <td>122693346870</td>\n      <td>122693346870</td>\n      <td>1.226933e+11</td>\n    </tr>\n  </tbody>\n</table>\n</div>"
     },
     "metadata": {},
     "execution_count": 4
    }
   ],
   "source": [
    "# Time to print the values of the measure M1\n",
    "\n",
    "# Name of csv file\n",
    "csv_file = \"/home/jlpadillas01/TFG/tests/tensorflow/mnist/out/mnist_train_callback.csv\"\n",
    "\n",
    "df2 = df_from_csv(csv_file)\n",
    "df2"
   ]
  },
  {
   "cell_type": "code",
   "execution_count": 5,
   "metadata": {
    "tags": []
   },
   "outputs": [
    {
     "output_type": "execute_result",
     "data": {
      "text/plain": [
       "                                 Event Name     Measure_1     Measure_2  \\\n",
       "0                PERF_COUNT_HW_INSTRUCTIONS  193018654911  192931572282   \n",
       "1         PERF_COUNT_HW_BRANCH_INSTRUCTIONS   16570142702   16536470673   \n",
       "2                           L1-DCACHE-LOADS   67066125578   67079106212   \n",
       "3                          L1-DCACHE-STORES   15580596331   15593821161   \n",
       "4       fp_arith_inst_retired.scalar_double     247323788     247311964   \n",
       "5       fp_arith_inst_retired.scalar_single     154688693     154688693   \n",
       "6  fp_arith_inst_retired.128b_packed_single      15056280      15056280   \n",
       "7  fp_arith_inst_retired.256b_packed_single       3403140       3403140   \n",
       "8  fp_arith_inst_retired.512b_packed_single  122693346870  122693346870   \n",
       "\n",
       "      Measure_3     Measure_4     Measure_5           Avg  \n",
       "0  192749210060  192882615270  191559184090  1.926282e+11  \n",
       "1   16504035415   16530853681   16418061513  1.651191e+10  \n",
       "2   67003101111   67055582971   66614889265  6.696376e+10  \n",
       "3   15560556177   15593172820   15169626081  1.549955e+10  \n",
       "4     247114824     247316462     247109695  2.472353e+08  \n",
       "5     154688693     154688693     154688693  1.546887e+08  \n",
       "6      15056280      15056280      15056280  1.505628e+07  \n",
       "7       3403140       3403140       3403140  3.403140e+06  \n",
       "8  122693346870  122693346870  122693346870  1.226933e+11  "
      ],
      "text/html": "<div>\n<style scoped>\n    .dataframe tbody tr th:only-of-type {\n        vertical-align: middle;\n    }\n\n    .dataframe tbody tr th {\n        vertical-align: top;\n    }\n\n    .dataframe thead th {\n        text-align: right;\n    }\n</style>\n<table border=\"1\" class=\"dataframe\">\n  <thead>\n    <tr style=\"text-align: right;\">\n      <th></th>\n      <th>Event Name</th>\n      <th>Measure_1</th>\n      <th>Measure_2</th>\n      <th>Measure_3</th>\n      <th>Measure_4</th>\n      <th>Measure_5</th>\n      <th>Avg</th>\n    </tr>\n  </thead>\n  <tbody>\n    <tr>\n      <th>0</th>\n      <td>PERF_COUNT_HW_INSTRUCTIONS</td>\n      <td>193018654911</td>\n      <td>192931572282</td>\n      <td>192749210060</td>\n      <td>192882615270</td>\n      <td>191559184090</td>\n      <td>1.926282e+11</td>\n    </tr>\n    <tr>\n      <th>1</th>\n      <td>PERF_COUNT_HW_BRANCH_INSTRUCTIONS</td>\n      <td>16570142702</td>\n      <td>16536470673</td>\n      <td>16504035415</td>\n      <td>16530853681</td>\n      <td>16418061513</td>\n      <td>1.651191e+10</td>\n    </tr>\n    <tr>\n      <th>2</th>\n      <td>L1-DCACHE-LOADS</td>\n      <td>67066125578</td>\n      <td>67079106212</td>\n      <td>67003101111</td>\n      <td>67055582971</td>\n      <td>66614889265</td>\n      <td>6.696376e+10</td>\n    </tr>\n    <tr>\n      <th>3</th>\n      <td>L1-DCACHE-STORES</td>\n      <td>15580596331</td>\n      <td>15593821161</td>\n      <td>15560556177</td>\n      <td>15593172820</td>\n      <td>15169626081</td>\n      <td>1.549955e+10</td>\n    </tr>\n    <tr>\n      <th>4</th>\n      <td>fp_arith_inst_retired.scalar_double</td>\n      <td>247323788</td>\n      <td>247311964</td>\n      <td>247114824</td>\n      <td>247316462</td>\n      <td>247109695</td>\n      <td>2.472353e+08</td>\n    </tr>\n    <tr>\n      <th>5</th>\n      <td>fp_arith_inst_retired.scalar_single</td>\n      <td>154688693</td>\n      <td>154688693</td>\n      <td>154688693</td>\n      <td>154688693</td>\n      <td>154688693</td>\n      <td>1.546887e+08</td>\n    </tr>\n    <tr>\n      <th>6</th>\n      <td>fp_arith_inst_retired.128b_packed_single</td>\n      <td>15056280</td>\n      <td>15056280</td>\n      <td>15056280</td>\n      <td>15056280</td>\n      <td>15056280</td>\n      <td>1.505628e+07</td>\n    </tr>\n    <tr>\n      <th>7</th>\n      <td>fp_arith_inst_retired.256b_packed_single</td>\n      <td>3403140</td>\n      <td>3403140</td>\n      <td>3403140</td>\n      <td>3403140</td>\n      <td>3403140</td>\n      <td>3.403140e+06</td>\n    </tr>\n    <tr>\n      <th>8</th>\n      <td>fp_arith_inst_retired.512b_packed_single</td>\n      <td>122693346870</td>\n      <td>122693346870</td>\n      <td>122693346870</td>\n      <td>122693346870</td>\n      <td>122693346870</td>\n      <td>1.226933e+11</td>\n    </tr>\n  </tbody>\n</table>\n</div>"
     },
     "metadata": {},
     "execution_count": 5
    }
   ],
   "source": [
    "# Time to print the values of the measure M2\n",
    "\n",
    "# Name of csv file\n",
    "csv_file = \"/home/jlpadillas01/TFG/tests/tensorflow/mnist/out/mnist_train_each_epoch.csv\"\n",
    "\n",
    "df3 = df_from_csv(csv_file)\n",
    "df3"
   ]
  },
  {
   "cell_type": "code",
   "execution_count": 6,
   "metadata": {},
   "outputs": [
    {
     "output_type": "execute_result",
     "data": {
      "text/plain": [
       "                                 Event Name     Measure_1     Measure_2  \\\n",
       "0                PERF_COUNT_HW_INSTRUCTIONS  132830362070  132828259980   \n",
       "1         PERF_COUNT_HW_BRANCH_INSTRUCTIONS    4891139917    4890817864   \n",
       "2                           L1-DCACHE-LOADS   48814711277   48815201214   \n",
       "3                          L1-DCACHE-STORES    4368069325    4368426079   \n",
       "4       fp_arith_inst_retired.scalar_double     239661702     239661275   \n",
       "5       fp_arith_inst_retired.scalar_single     152115060     152115060   \n",
       "6  fp_arith_inst_retired.128b_packed_single      15150000      15150000   \n",
       "7  fp_arith_inst_retired.256b_packed_single       3345001       3345001   \n",
       "8  fp_arith_inst_retired.512b_packed_single  120849165006  120849165006   \n",
       "\n",
       "      Measure_3     Measure_4     Measure_5           Avg  \n",
       "0  132814086410  132801859154  132888970331  1.328327e+11  \n",
       "1    4889634622    4886124317    4907140109  4.892971e+09  \n",
       "2   48810558927   48809871115   48824586381  4.881499e+10  \n",
       "3    4366934859    4365278614    4365119175  4.366766e+09  \n",
       "4     239661279     239661351     239661162  2.396614e+08  \n",
       "5     152115060     152115060     152115060  1.521151e+08  \n",
       "6      15150000      15150000      15150000  1.515000e+07  \n",
       "7       3345001       3345001       3345001  3.345001e+06  \n",
       "8  120849165006  120849165006  120849165006  1.208492e+11  "
      ],
      "text/html": "<div>\n<style scoped>\n    .dataframe tbody tr th:only-of-type {\n        vertical-align: middle;\n    }\n\n    .dataframe tbody tr th {\n        vertical-align: top;\n    }\n\n    .dataframe thead th {\n        text-align: right;\n    }\n</style>\n<table border=\"1\" class=\"dataframe\">\n  <thead>\n    <tr style=\"text-align: right;\">\n      <th></th>\n      <th>Event Name</th>\n      <th>Measure_1</th>\n      <th>Measure_2</th>\n      <th>Measure_3</th>\n      <th>Measure_4</th>\n      <th>Measure_5</th>\n      <th>Avg</th>\n    </tr>\n  </thead>\n  <tbody>\n    <tr>\n      <th>0</th>\n      <td>PERF_COUNT_HW_INSTRUCTIONS</td>\n      <td>132830362070</td>\n      <td>132828259980</td>\n      <td>132814086410</td>\n      <td>132801859154</td>\n      <td>132888970331</td>\n      <td>1.328327e+11</td>\n    </tr>\n    <tr>\n      <th>1</th>\n      <td>PERF_COUNT_HW_BRANCH_INSTRUCTIONS</td>\n      <td>4891139917</td>\n      <td>4890817864</td>\n      <td>4889634622</td>\n      <td>4886124317</td>\n      <td>4907140109</td>\n      <td>4.892971e+09</td>\n    </tr>\n    <tr>\n      <th>2</th>\n      <td>L1-DCACHE-LOADS</td>\n      <td>48814711277</td>\n      <td>48815201214</td>\n      <td>48810558927</td>\n      <td>48809871115</td>\n      <td>48824586381</td>\n      <td>4.881499e+10</td>\n    </tr>\n    <tr>\n      <th>3</th>\n      <td>L1-DCACHE-STORES</td>\n      <td>4368069325</td>\n      <td>4368426079</td>\n      <td>4366934859</td>\n      <td>4365278614</td>\n      <td>4365119175</td>\n      <td>4.366766e+09</td>\n    </tr>\n    <tr>\n      <th>4</th>\n      <td>fp_arith_inst_retired.scalar_double</td>\n      <td>239661702</td>\n      <td>239661275</td>\n      <td>239661279</td>\n      <td>239661351</td>\n      <td>239661162</td>\n      <td>2.396614e+08</td>\n    </tr>\n    <tr>\n      <th>5</th>\n      <td>fp_arith_inst_retired.scalar_single</td>\n      <td>152115060</td>\n      <td>152115060</td>\n      <td>152115060</td>\n      <td>152115060</td>\n      <td>152115060</td>\n      <td>1.521151e+08</td>\n    </tr>\n    <tr>\n      <th>6</th>\n      <td>fp_arith_inst_retired.128b_packed_single</td>\n      <td>15150000</td>\n      <td>15150000</td>\n      <td>15150000</td>\n      <td>15150000</td>\n      <td>15150000</td>\n      <td>1.515000e+07</td>\n    </tr>\n    <tr>\n      <th>7</th>\n      <td>fp_arith_inst_retired.256b_packed_single</td>\n      <td>3345001</td>\n      <td>3345001</td>\n      <td>3345001</td>\n      <td>3345001</td>\n      <td>3345001</td>\n      <td>3.345001e+06</td>\n    </tr>\n    <tr>\n      <th>8</th>\n      <td>fp_arith_inst_retired.512b_packed_single</td>\n      <td>120849165006</td>\n      <td>120849165006</td>\n      <td>120849165006</td>\n      <td>120849165006</td>\n      <td>120849165006</td>\n      <td>1.208492e+11</td>\n    </tr>\n  </tbody>\n</table>\n</div>"
     },
     "metadata": {},
     "execution_count": 6
    }
   ],
   "source": [
    "# Time to print the values of the measure M3\n",
    "\n",
    "# Name of csv file\n",
    "csv_file = \"/home/jlpadillas01/TFG/tests/tensorflow/mnist/out/mnist_train_each_batch.csv\"\n",
    "\n",
    "df4 = df_from_csv(csv_file)\n",
    "df4"
   ]
  },
  {
   "cell_type": "code",
   "execution_count": 7,
   "metadata": {},
   "outputs": [
    {
     "output_type": "execute_result",
     "data": {
      "text/plain": [
       "                                 Event Name           df1           df2  \\\n",
       "0                PERF_COUNT_HW_INSTRUCTIONS  1.926831e+11  1.929248e+11   \n",
       "1         PERF_COUNT_HW_BRANCH_INSTRUCTIONS  1.652379e+10  1.656340e+10   \n",
       "2                           L1-DCACHE-LOADS  6.695347e+10  6.702425e+10   \n",
       "3                          L1-DCACHE-STORES  1.545256e+10  1.553569e+10   \n",
       "4       fp_arith_inst_retired.scalar_double  2.472346e+08  2.472812e+08   \n",
       "5       fp_arith_inst_retired.scalar_single  1.546888e+08  1.546888e+08   \n",
       "6  fp_arith_inst_retired.128b_packed_single  1.505628e+07  1.505628e+07   \n",
       "7  fp_arith_inst_retired.256b_packed_single  3.403140e+06  3.403140e+06   \n",
       "8  fp_arith_inst_retired.512b_packed_single  1.226933e+11  1.226933e+11   \n",
       "\n",
       "            df3           df4  \n",
       "0  1.926282e+11  1.328327e+11  \n",
       "1  1.651191e+10  4.892971e+09  \n",
       "2  6.696376e+10  4.881499e+10  \n",
       "3  1.549955e+10  4.366766e+09  \n",
       "4  2.472353e+08  2.396614e+08  \n",
       "5  1.546887e+08  1.521151e+08  \n",
       "6  1.505628e+07  1.515000e+07  \n",
       "7  3.403140e+06  3.345001e+06  \n",
       "8  1.226933e+11  1.208492e+11  "
      ],
      "text/html": "<div>\n<style scoped>\n    .dataframe tbody tr th:only-of-type {\n        vertical-align: middle;\n    }\n\n    .dataframe tbody tr th {\n        vertical-align: top;\n    }\n\n    .dataframe thead th {\n        text-align: right;\n    }\n</style>\n<table border=\"1\" class=\"dataframe\">\n  <thead>\n    <tr style=\"text-align: right;\">\n      <th></th>\n      <th>Event Name</th>\n      <th>df1</th>\n      <th>df2</th>\n      <th>df3</th>\n      <th>df4</th>\n    </tr>\n  </thead>\n  <tbody>\n    <tr>\n      <th>0</th>\n      <td>PERF_COUNT_HW_INSTRUCTIONS</td>\n      <td>1.926831e+11</td>\n      <td>1.929248e+11</td>\n      <td>1.926282e+11</td>\n      <td>1.328327e+11</td>\n    </tr>\n    <tr>\n      <th>1</th>\n      <td>PERF_COUNT_HW_BRANCH_INSTRUCTIONS</td>\n      <td>1.652379e+10</td>\n      <td>1.656340e+10</td>\n      <td>1.651191e+10</td>\n      <td>4.892971e+09</td>\n    </tr>\n    <tr>\n      <th>2</th>\n      <td>L1-DCACHE-LOADS</td>\n      <td>6.695347e+10</td>\n      <td>6.702425e+10</td>\n      <td>6.696376e+10</td>\n      <td>4.881499e+10</td>\n    </tr>\n    <tr>\n      <th>3</th>\n      <td>L1-DCACHE-STORES</td>\n      <td>1.545256e+10</td>\n      <td>1.553569e+10</td>\n      <td>1.549955e+10</td>\n      <td>4.366766e+09</td>\n    </tr>\n    <tr>\n      <th>4</th>\n      <td>fp_arith_inst_retired.scalar_double</td>\n      <td>2.472346e+08</td>\n      <td>2.472812e+08</td>\n      <td>2.472353e+08</td>\n      <td>2.396614e+08</td>\n    </tr>\n    <tr>\n      <th>5</th>\n      <td>fp_arith_inst_retired.scalar_single</td>\n      <td>1.546888e+08</td>\n      <td>1.546888e+08</td>\n      <td>1.546887e+08</td>\n      <td>1.521151e+08</td>\n    </tr>\n    <tr>\n      <th>6</th>\n      <td>fp_arith_inst_retired.128b_packed_single</td>\n      <td>1.505628e+07</td>\n      <td>1.505628e+07</td>\n      <td>1.505628e+07</td>\n      <td>1.515000e+07</td>\n    </tr>\n    <tr>\n      <th>7</th>\n      <td>fp_arith_inst_retired.256b_packed_single</td>\n      <td>3.403140e+06</td>\n      <td>3.403140e+06</td>\n      <td>3.403140e+06</td>\n      <td>3.345001e+06</td>\n    </tr>\n    <tr>\n      <th>8</th>\n      <td>fp_arith_inst_retired.512b_packed_single</td>\n      <td>1.226933e+11</td>\n      <td>1.226933e+11</td>\n      <td>1.226933e+11</td>\n      <td>1.208492e+11</td>\n    </tr>\n  </tbody>\n</table>\n</div>"
     },
     "metadata": {},
     "execution_count": 7
    }
   ],
   "source": [
    "# Join the two dataframes in another one\n",
    "events = pd.Series(df4[\"Event Name\"].unique())\n",
    "data = [events, df1['Avg'], df2['Avg'], df3['Avg'], df4['Avg']]\n",
    "headers = ['Event Name', 'df1', 'df2', 'df3', 'df4']\n",
    "df5 = pd.concat(data, axis=1, keys=headers)\n",
    "#df5['Value_diff'] = (df3['df1'] - df3['df2']).abs()\n",
    "df5"
   ]
  },
  {
   "cell_type": "code",
   "execution_count": 8,
   "metadata": {},
   "outputs": [],
   "source": [
    "with pd.ExcelWriter('output.xlsx') as writer:\n",
    "    df1.to_excel(writer, sheet_name='mnist_train_papi')\n",
    "    df2.to_excel(writer, sheet_name='mnist_train_callback')\n",
    "    df3.to_excel(writer, sheet_name='mnit_train_each_epoch')\n",
    "    df4.to_excel(writer, sheet_name='mnit_train_each_batch')\n",
    "    df5.to_excel(writer, sheet_name='mnit_train_comparation')"
   ]
  }
 ]
}