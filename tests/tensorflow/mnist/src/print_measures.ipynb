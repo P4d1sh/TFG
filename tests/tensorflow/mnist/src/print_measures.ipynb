{
 "metadata": {
  "language_info": {
   "codemirror_mode": {
    "name": "ipython",
    "version": 3
   },
   "file_extension": ".py",
   "mimetype": "text/x-python",
   "name": "python",
   "nbconvert_exporter": "python",
   "pygments_lexer": "ipython3",
   "version": "3.8.5"
  },
  "orig_nbformat": 2,
  "kernelspec": {
   "name": "python385jvsc74a57bd08d466f5fa6fb18530bca1f949177b1fcfe59f60d945432f26594dff26bd69283",
   "display_name": "Python 3.8.5 64-bit ('py3_tensorflow_env': venv)"
  },
  "metadata": {
   "interpreter": {
    "hash": "8d466f5fa6fb18530bca1f949177b1fcfe59f60d945432f26594dff26bd69283"
   }
  }
 },
 "nbformat": 4,
 "nbformat_minor": 2,
 "cells": [
  {
   "cell_type": "code",
   "execution_count": 1,
   "metadata": {},
   "outputs": [],
   "source": [
    "import numpy as np\n",
    "import pandas as pd\n",
    "import pathlib\n",
    "import sys"
   ]
  },
  {
   "cell_type": "code",
   "execution_count": 2,
   "metadata": {},
   "outputs": [],
   "source": [
    "def df_from_csv(csv_file):\n",
    "    # Read csv with the following name of columns\n",
    "    df = pd.read_csv(csv_file, header=None, sep=\":\", names=[\"CPU\", \"Value\", \"Unit\", \"Event Name\"])\n",
    "\n",
    "    # Define the number of epochs and number of measures\n",
    "    num_epochs = 30\n",
    "    num_measures = 5\n",
    "\n",
    "    # Get the events measured\n",
    "    events = df[\"Event Name\"].unique()\n",
    "\n",
    "    # Split the Dataframe in num_measures\n",
    "    arrs = np.array_split(df, num_measures)\n",
    "\n",
    "    # Store that mean columns in a new Dataframe\n",
    "    data = []\n",
    "    headers = []\n",
    "    i = 0\n",
    "    # Calculate the mean of each iteration\n",
    "    for arr in arrs:\n",
    "        arr = arr.reset_index(drop=True)\n",
    "        arr['Avg'] = arr.groupby('Event Name')['Value'].transform('sum')\n",
    "        i = i + 1\n",
    "        headers.append(\"Measure_\" + str(i))\n",
    "        data.append(arr['Avg'].head(len(events)))\n",
    "\n",
    "    # Creates a new df from the avg of the iters\n",
    "    df = pd.concat(data, axis=1, keys=headers)\n",
    "\n",
    "    # Add the events names\n",
    "    df.insert(0, 'Event Name', events)\n",
    "\n",
    "    # Creates a new avg column from all the measures\n",
    "    df['Avg'] = df.mean(axis=1)\n",
    "    return df"
   ]
  },
  {
   "cell_type": "code",
   "execution_count": 3,
   "metadata": {},
   "outputs": [],
   "source": [
    "# Options used:\n",
    "# -------------\n",
    "# SINGLE-THREAD. inter = intra = 1\n",
    "# Medida en la fase de entrenamiento (fit())\n",
    "# Se ha ejecutado el programa 5 veces. 30 epochs en cada una de ellas.\n",
    "# --------------------------------------------------------------------\n",
    "\n",
    "# -----------------------------------------------------------------------------------------------\n",
    "# Name of csv file\n",
    "csv_file = \"/home/jlpadillas01/TFG/tests/tensorflow/mnist/out/single_thread/mnist_train_papi.csv\"\n",
    "# plot_each_iter(csv_file)\n",
    "mnist_train_papi = df_from_csv(csv_file)\n",
    "# -----------------------------------------------------------------------------------------------\n",
    "\n",
    "# ---------------------------------------------------------------------------------------------------\n",
    "# Name of csv file\n",
    "csv_file = \"/home/jlpadillas01/TFG/tests/tensorflow/mnist/out/single_thread/mnist_train_callback.csv\"\n",
    "# plot_each_iter(csv_file)\n",
    "mnist_train_callback = df_from_csv(csv_file)\n",
    "# ---------------------------------------------------------------------------------------------------\n",
    "\n",
    "# -----------------------------------------------------------------------------------------------------\n",
    "# Name of csv file\n",
    "csv_file = \"/home/jlpadillas01/TFG/tests/tensorflow/mnist/out/single_thread/mnist_train_each_epoch.csv\"\n",
    "# plot_each_iter(csv_file)\n",
    "mnist_train_each_epoch = df_from_csv(csv_file)\n",
    "# -----------------------------------------------------------------------------------------------------\n",
    "\n",
    "# -----------------------------------------------------------------------------------------------------\n",
    "# Name of csv file\n",
    "csv_file = \"/home/jlpadillas01/TFG/tests/tensorflow/mnist/out/single_thread/mnist_train_each_batch.csv\"\n",
    "# plot_each_iter(csv_file)\n",
    "mnist_train_each_batch = df_from_csv(csv_file)\n",
    "# -----------------------------------------------------------------------------------------------------"
   ]
  },
  {
   "cell_type": "code",
   "execution_count": 4,
   "metadata": {},
   "outputs": [
    {
     "output_type": "execute_result",
     "data": {
      "text/plain": [
       "                                 Event Name     Measure_1     Measure_2  \\\n",
       "0                PERF_COUNT_HW_INSTRUCTIONS  193532612763  191722933694   \n",
       "1         PERF_COUNT_HW_BRANCH_INSTRUCTIONS   16637978284   16420111891   \n",
       "2                           L1-DCACHE-LOADS   67197413612   66654715550   \n",
       "3                          L1-DCACHE-STORES   15638234031   15191754159   \n",
       "4       fp_arith_inst_retired.scalar_double     247316414     247112323   \n",
       "5       fp_arith_inst_retired.scalar_single     154688753     154688753   \n",
       "6  fp_arith_inst_retired.128b_packed_single      15056280      15056280   \n",
       "7  fp_arith_inst_retired.256b_packed_single       3403140       3403140   \n",
       "8  fp_arith_inst_retired.512b_packed_single  122693346870  122693346870   \n",
       "\n",
       "      Measure_3     Measure_4     Measure_5           Avg  \n",
       "0  193274627483  193088825159  191796478519  1.926831e+11  \n",
       "1   16585350509   16537362003   16438151694  1.652379e+10  \n",
       "2   67136605844   67102454857   66676152816  6.695347e+10  \n",
       "3   15620269336   15612795448   15199728296  1.545256e+10  \n",
       "4     247317042     247318820     247108318  2.472346e+08  \n",
       "5     154688753     154688753     154688753  1.546888e+08  \n",
       "6      15056280      15056280      15056280  1.505628e+07  \n",
       "7       3403140       3403140       3403140  3.403140e+06  \n",
       "8  122693346870  122693346870  122693346870  1.226933e+11  "
      ],
      "text/html": "<div>\n<style scoped>\n    .dataframe tbody tr th:only-of-type {\n        vertical-align: middle;\n    }\n\n    .dataframe tbody tr th {\n        vertical-align: top;\n    }\n\n    .dataframe thead th {\n        text-align: right;\n    }\n</style>\n<table border=\"1\" class=\"dataframe\">\n  <thead>\n    <tr style=\"text-align: right;\">\n      <th></th>\n      <th>Event Name</th>\n      <th>Measure_1</th>\n      <th>Measure_2</th>\n      <th>Measure_3</th>\n      <th>Measure_4</th>\n      <th>Measure_5</th>\n      <th>Avg</th>\n    </tr>\n  </thead>\n  <tbody>\n    <tr>\n      <th>0</th>\n      <td>PERF_COUNT_HW_INSTRUCTIONS</td>\n      <td>193532612763</td>\n      <td>191722933694</td>\n      <td>193274627483</td>\n      <td>193088825159</td>\n      <td>191796478519</td>\n      <td>1.926831e+11</td>\n    </tr>\n    <tr>\n      <th>1</th>\n      <td>PERF_COUNT_HW_BRANCH_INSTRUCTIONS</td>\n      <td>16637978284</td>\n      <td>16420111891</td>\n      <td>16585350509</td>\n      <td>16537362003</td>\n      <td>16438151694</td>\n      <td>1.652379e+10</td>\n    </tr>\n    <tr>\n      <th>2</th>\n      <td>L1-DCACHE-LOADS</td>\n      <td>67197413612</td>\n      <td>66654715550</td>\n      <td>67136605844</td>\n      <td>67102454857</td>\n      <td>66676152816</td>\n      <td>6.695347e+10</td>\n    </tr>\n    <tr>\n      <th>3</th>\n      <td>L1-DCACHE-STORES</td>\n      <td>15638234031</td>\n      <td>15191754159</td>\n      <td>15620269336</td>\n      <td>15612795448</td>\n      <td>15199728296</td>\n      <td>1.545256e+10</td>\n    </tr>\n    <tr>\n      <th>4</th>\n      <td>fp_arith_inst_retired.scalar_double</td>\n      <td>247316414</td>\n      <td>247112323</td>\n      <td>247317042</td>\n      <td>247318820</td>\n      <td>247108318</td>\n      <td>2.472346e+08</td>\n    </tr>\n    <tr>\n      <th>5</th>\n      <td>fp_arith_inst_retired.scalar_single</td>\n      <td>154688753</td>\n      <td>154688753</td>\n      <td>154688753</td>\n      <td>154688753</td>\n      <td>154688753</td>\n      <td>1.546888e+08</td>\n    </tr>\n    <tr>\n      <th>6</th>\n      <td>fp_arith_inst_retired.128b_packed_single</td>\n      <td>15056280</td>\n      <td>15056280</td>\n      <td>15056280</td>\n      <td>15056280</td>\n      <td>15056280</td>\n      <td>1.505628e+07</td>\n    </tr>\n    <tr>\n      <th>7</th>\n      <td>fp_arith_inst_retired.256b_packed_single</td>\n      <td>3403140</td>\n      <td>3403140</td>\n      <td>3403140</td>\n      <td>3403140</td>\n      <td>3403140</td>\n      <td>3.403140e+06</td>\n    </tr>\n    <tr>\n      <th>8</th>\n      <td>fp_arith_inst_retired.512b_packed_single</td>\n      <td>122693346870</td>\n      <td>122693346870</td>\n      <td>122693346870</td>\n      <td>122693346870</td>\n      <td>122693346870</td>\n      <td>1.226933e+11</td>\n    </tr>\n  </tbody>\n</table>\n</div>"
     },
     "metadata": {},
     "execution_count": 4
    }
   ],
   "source": [
    "mnist_train_papi"
   ]
  },
  {
   "cell_type": "code",
   "execution_count": 5,
   "metadata": {},
   "outputs": [
    {
     "output_type": "execute_result",
     "data": {
      "text/plain": [
       "                                 Event Name     Measure_1     Measure_2  \\\n",
       "0                PERF_COUNT_HW_INSTRUCTIONS  193348191211  191548125053   \n",
       "1         PERF_COUNT_HW_BRANCH_INSTRUCTIONS   16622251581   16399300908   \n",
       "2                           L1-DCACHE-LOADS   67139940133   66622156153   \n",
       "3                          L1-DCACHE-STORES   15615410143   15195885986   \n",
       "4       fp_arith_inst_retired.scalar_double     247318651     247116172   \n",
       "5       fp_arith_inst_retired.scalar_single     154688753     154688753   \n",
       "6  fp_arith_inst_retired.128b_packed_single      15056280      15056280   \n",
       "7  fp_arith_inst_retired.256b_packed_single       3403140       3403140   \n",
       "8  fp_arith_inst_retired.512b_packed_single  122693346870  122693346870   \n",
       "\n",
       "      Measure_3     Measure_4     Measure_5           Avg  \n",
       "0  193282675683  193303688563  193141257833  1.929248e+11  \n",
       "1   16609379322   16613014698   16573047894  1.656340e+10  \n",
       "2   67126302193   67126573565   67106292252  6.702425e+10  \n",
       "3   15611010058   15639401699   15616753098  1.553569e+10  \n",
       "4     247323240     247323978     247323807  2.472812e+08  \n",
       "5     154688753     154688753     154688753  1.546888e+08  \n",
       "6      15056280      15056280      15056280  1.505628e+07  \n",
       "7       3403140       3403140       3403140  3.403140e+06  \n",
       "8  122693346870  122693346870  122693346870  1.226933e+11  "
      ],
      "text/html": "<div>\n<style scoped>\n    .dataframe tbody tr th:only-of-type {\n        vertical-align: middle;\n    }\n\n    .dataframe tbody tr th {\n        vertical-align: top;\n    }\n\n    .dataframe thead th {\n        text-align: right;\n    }\n</style>\n<table border=\"1\" class=\"dataframe\">\n  <thead>\n    <tr style=\"text-align: right;\">\n      <th></th>\n      <th>Event Name</th>\n      <th>Measure_1</th>\n      <th>Measure_2</th>\n      <th>Measure_3</th>\n      <th>Measure_4</th>\n      <th>Measure_5</th>\n      <th>Avg</th>\n    </tr>\n  </thead>\n  <tbody>\n    <tr>\n      <th>0</th>\n      <td>PERF_COUNT_HW_INSTRUCTIONS</td>\n      <td>193348191211</td>\n      <td>191548125053</td>\n      <td>193282675683</td>\n      <td>193303688563</td>\n      <td>193141257833</td>\n      <td>1.929248e+11</td>\n    </tr>\n    <tr>\n      <th>1</th>\n      <td>PERF_COUNT_HW_BRANCH_INSTRUCTIONS</td>\n      <td>16622251581</td>\n      <td>16399300908</td>\n      <td>16609379322</td>\n      <td>16613014698</td>\n      <td>16573047894</td>\n      <td>1.656340e+10</td>\n    </tr>\n    <tr>\n      <th>2</th>\n      <td>L1-DCACHE-LOADS</td>\n      <td>67139940133</td>\n      <td>66622156153</td>\n      <td>67126302193</td>\n      <td>67126573565</td>\n      <td>67106292252</td>\n      <td>6.702425e+10</td>\n    </tr>\n    <tr>\n      <th>3</th>\n      <td>L1-DCACHE-STORES</td>\n      <td>15615410143</td>\n      <td>15195885986</td>\n      <td>15611010058</td>\n      <td>15639401699</td>\n      <td>15616753098</td>\n      <td>1.553569e+10</td>\n    </tr>\n    <tr>\n      <th>4</th>\n      <td>fp_arith_inst_retired.scalar_double</td>\n      <td>247318651</td>\n      <td>247116172</td>\n      <td>247323240</td>\n      <td>247323978</td>\n      <td>247323807</td>\n      <td>2.472812e+08</td>\n    </tr>\n    <tr>\n      <th>5</th>\n      <td>fp_arith_inst_retired.scalar_single</td>\n      <td>154688753</td>\n      <td>154688753</td>\n      <td>154688753</td>\n      <td>154688753</td>\n      <td>154688753</td>\n      <td>1.546888e+08</td>\n    </tr>\n    <tr>\n      <th>6</th>\n      <td>fp_arith_inst_retired.128b_packed_single</td>\n      <td>15056280</td>\n      <td>15056280</td>\n      <td>15056280</td>\n      <td>15056280</td>\n      <td>15056280</td>\n      <td>1.505628e+07</td>\n    </tr>\n    <tr>\n      <th>7</th>\n      <td>fp_arith_inst_retired.256b_packed_single</td>\n      <td>3403140</td>\n      <td>3403140</td>\n      <td>3403140</td>\n      <td>3403140</td>\n      <td>3403140</td>\n      <td>3.403140e+06</td>\n    </tr>\n    <tr>\n      <th>8</th>\n      <td>fp_arith_inst_retired.512b_packed_single</td>\n      <td>122693346870</td>\n      <td>122693346870</td>\n      <td>122693346870</td>\n      <td>122693346870</td>\n      <td>122693346870</td>\n      <td>1.226933e+11</td>\n    </tr>\n  </tbody>\n</table>\n</div>"
     },
     "metadata": {},
     "execution_count": 5
    }
   ],
   "source": [
    "mnist_train_callback"
   ]
  },
  {
   "cell_type": "code",
   "execution_count": 6,
   "metadata": {},
   "outputs": [
    {
     "output_type": "execute_result",
     "data": {
      "text/plain": [
       "                                 Event Name     Measure_1     Measure_2  \\\n",
       "0                PERF_COUNT_HW_INSTRUCTIONS  193018654911  192931572282   \n",
       "1         PERF_COUNT_HW_BRANCH_INSTRUCTIONS   16570142702   16536470673   \n",
       "2                           L1-DCACHE-LOADS   67066125578   67079106212   \n",
       "3                          L1-DCACHE-STORES   15580596331   15593821161   \n",
       "4       fp_arith_inst_retired.scalar_double     247323788     247311964   \n",
       "5       fp_arith_inst_retired.scalar_single     154688693     154688693   \n",
       "6  fp_arith_inst_retired.128b_packed_single      15056280      15056280   \n",
       "7  fp_arith_inst_retired.256b_packed_single       3403140       3403140   \n",
       "8  fp_arith_inst_retired.512b_packed_single  122693346870  122693346870   \n",
       "\n",
       "      Measure_3     Measure_4     Measure_5           Avg  \n",
       "0  192749210060  192882615270  191559184090  1.926282e+11  \n",
       "1   16504035415   16530853681   16418061513  1.651191e+10  \n",
       "2   67003101111   67055582971   66614889265  6.696376e+10  \n",
       "3   15560556177   15593172820   15169626081  1.549955e+10  \n",
       "4     247114824     247316462     247109695  2.472353e+08  \n",
       "5     154688693     154688693     154688693  1.546887e+08  \n",
       "6      15056280      15056280      15056280  1.505628e+07  \n",
       "7       3403140       3403140       3403140  3.403140e+06  \n",
       "8  122693346870  122693346870  122693346870  1.226933e+11  "
      ],
      "text/html": "<div>\n<style scoped>\n    .dataframe tbody tr th:only-of-type {\n        vertical-align: middle;\n    }\n\n    .dataframe tbody tr th {\n        vertical-align: top;\n    }\n\n    .dataframe thead th {\n        text-align: right;\n    }\n</style>\n<table border=\"1\" class=\"dataframe\">\n  <thead>\n    <tr style=\"text-align: right;\">\n      <th></th>\n      <th>Event Name</th>\n      <th>Measure_1</th>\n      <th>Measure_2</th>\n      <th>Measure_3</th>\n      <th>Measure_4</th>\n      <th>Measure_5</th>\n      <th>Avg</th>\n    </tr>\n  </thead>\n  <tbody>\n    <tr>\n      <th>0</th>\n      <td>PERF_COUNT_HW_INSTRUCTIONS</td>\n      <td>193018654911</td>\n      <td>192931572282</td>\n      <td>192749210060</td>\n      <td>192882615270</td>\n      <td>191559184090</td>\n      <td>1.926282e+11</td>\n    </tr>\n    <tr>\n      <th>1</th>\n      <td>PERF_COUNT_HW_BRANCH_INSTRUCTIONS</td>\n      <td>16570142702</td>\n      <td>16536470673</td>\n      <td>16504035415</td>\n      <td>16530853681</td>\n      <td>16418061513</td>\n      <td>1.651191e+10</td>\n    </tr>\n    <tr>\n      <th>2</th>\n      <td>L1-DCACHE-LOADS</td>\n      <td>67066125578</td>\n      <td>67079106212</td>\n      <td>67003101111</td>\n      <td>67055582971</td>\n      <td>66614889265</td>\n      <td>6.696376e+10</td>\n    </tr>\n    <tr>\n      <th>3</th>\n      <td>L1-DCACHE-STORES</td>\n      <td>15580596331</td>\n      <td>15593821161</td>\n      <td>15560556177</td>\n      <td>15593172820</td>\n      <td>15169626081</td>\n      <td>1.549955e+10</td>\n    </tr>\n    <tr>\n      <th>4</th>\n      <td>fp_arith_inst_retired.scalar_double</td>\n      <td>247323788</td>\n      <td>247311964</td>\n      <td>247114824</td>\n      <td>247316462</td>\n      <td>247109695</td>\n      <td>2.472353e+08</td>\n    </tr>\n    <tr>\n      <th>5</th>\n      <td>fp_arith_inst_retired.scalar_single</td>\n      <td>154688693</td>\n      <td>154688693</td>\n      <td>154688693</td>\n      <td>154688693</td>\n      <td>154688693</td>\n      <td>1.546887e+08</td>\n    </tr>\n    <tr>\n      <th>6</th>\n      <td>fp_arith_inst_retired.128b_packed_single</td>\n      <td>15056280</td>\n      <td>15056280</td>\n      <td>15056280</td>\n      <td>15056280</td>\n      <td>15056280</td>\n      <td>1.505628e+07</td>\n    </tr>\n    <tr>\n      <th>7</th>\n      <td>fp_arith_inst_retired.256b_packed_single</td>\n      <td>3403140</td>\n      <td>3403140</td>\n      <td>3403140</td>\n      <td>3403140</td>\n      <td>3403140</td>\n      <td>3.403140e+06</td>\n    </tr>\n    <tr>\n      <th>8</th>\n      <td>fp_arith_inst_retired.512b_packed_single</td>\n      <td>122693346870</td>\n      <td>122693346870</td>\n      <td>122693346870</td>\n      <td>122693346870</td>\n      <td>122693346870</td>\n      <td>1.226933e+11</td>\n    </tr>\n  </tbody>\n</table>\n</div>"
     },
     "metadata": {},
     "execution_count": 6
    }
   ],
   "source": [
    "mnist_train_each_epoch"
   ]
  },
  {
   "cell_type": "code",
   "execution_count": 7,
   "metadata": {},
   "outputs": [
    {
     "output_type": "execute_result",
     "data": {
      "text/plain": [
       "                                 Event Name     Measure_1     Measure_2  \\\n",
       "0                PERF_COUNT_HW_INSTRUCTIONS  132830362070  132828259980   \n",
       "1         PERF_COUNT_HW_BRANCH_INSTRUCTIONS    4891139917    4890817864   \n",
       "2                           L1-DCACHE-LOADS   48814711277   48815201214   \n",
       "3                          L1-DCACHE-STORES    4368069325    4368426079   \n",
       "4       fp_arith_inst_retired.scalar_double     239661702     239661275   \n",
       "5       fp_arith_inst_retired.scalar_single     152115060     152115060   \n",
       "6  fp_arith_inst_retired.128b_packed_single      15150000      15150000   \n",
       "7  fp_arith_inst_retired.256b_packed_single       3345001       3345001   \n",
       "8  fp_arith_inst_retired.512b_packed_single  120849165006  120849165006   \n",
       "\n",
       "      Measure_3     Measure_4     Measure_5           Avg  \n",
       "0  132814086410  132801859154  132888970331  1.328327e+11  \n",
       "1    4889634622    4886124317    4907140109  4.892971e+09  \n",
       "2   48810558927   48809871115   48824586381  4.881499e+10  \n",
       "3    4366934859    4365278614    4365119175  4.366766e+09  \n",
       "4     239661279     239661351     239661162  2.396614e+08  \n",
       "5     152115060     152115060     152115060  1.521151e+08  \n",
       "6      15150000      15150000      15150000  1.515000e+07  \n",
       "7       3345001       3345001       3345001  3.345001e+06  \n",
       "8  120849165006  120849165006  120849165006  1.208492e+11  "
      ],
      "text/html": "<div>\n<style scoped>\n    .dataframe tbody tr th:only-of-type {\n        vertical-align: middle;\n    }\n\n    .dataframe tbody tr th {\n        vertical-align: top;\n    }\n\n    .dataframe thead th {\n        text-align: right;\n    }\n</style>\n<table border=\"1\" class=\"dataframe\">\n  <thead>\n    <tr style=\"text-align: right;\">\n      <th></th>\n      <th>Event Name</th>\n      <th>Measure_1</th>\n      <th>Measure_2</th>\n      <th>Measure_3</th>\n      <th>Measure_4</th>\n      <th>Measure_5</th>\n      <th>Avg</th>\n    </tr>\n  </thead>\n  <tbody>\n    <tr>\n      <th>0</th>\n      <td>PERF_COUNT_HW_INSTRUCTIONS</td>\n      <td>132830362070</td>\n      <td>132828259980</td>\n      <td>132814086410</td>\n      <td>132801859154</td>\n      <td>132888970331</td>\n      <td>1.328327e+11</td>\n    </tr>\n    <tr>\n      <th>1</th>\n      <td>PERF_COUNT_HW_BRANCH_INSTRUCTIONS</td>\n      <td>4891139917</td>\n      <td>4890817864</td>\n      <td>4889634622</td>\n      <td>4886124317</td>\n      <td>4907140109</td>\n      <td>4.892971e+09</td>\n    </tr>\n    <tr>\n      <th>2</th>\n      <td>L1-DCACHE-LOADS</td>\n      <td>48814711277</td>\n      <td>48815201214</td>\n      <td>48810558927</td>\n      <td>48809871115</td>\n      <td>48824586381</td>\n      <td>4.881499e+10</td>\n    </tr>\n    <tr>\n      <th>3</th>\n      <td>L1-DCACHE-STORES</td>\n      <td>4368069325</td>\n      <td>4368426079</td>\n      <td>4366934859</td>\n      <td>4365278614</td>\n      <td>4365119175</td>\n      <td>4.366766e+09</td>\n    </tr>\n    <tr>\n      <th>4</th>\n      <td>fp_arith_inst_retired.scalar_double</td>\n      <td>239661702</td>\n      <td>239661275</td>\n      <td>239661279</td>\n      <td>239661351</td>\n      <td>239661162</td>\n      <td>2.396614e+08</td>\n    </tr>\n    <tr>\n      <th>5</th>\n      <td>fp_arith_inst_retired.scalar_single</td>\n      <td>152115060</td>\n      <td>152115060</td>\n      <td>152115060</td>\n      <td>152115060</td>\n      <td>152115060</td>\n      <td>1.521151e+08</td>\n    </tr>\n    <tr>\n      <th>6</th>\n      <td>fp_arith_inst_retired.128b_packed_single</td>\n      <td>15150000</td>\n      <td>15150000</td>\n      <td>15150000</td>\n      <td>15150000</td>\n      <td>15150000</td>\n      <td>1.515000e+07</td>\n    </tr>\n    <tr>\n      <th>7</th>\n      <td>fp_arith_inst_retired.256b_packed_single</td>\n      <td>3345001</td>\n      <td>3345001</td>\n      <td>3345001</td>\n      <td>3345001</td>\n      <td>3345001</td>\n      <td>3.345001e+06</td>\n    </tr>\n    <tr>\n      <th>8</th>\n      <td>fp_arith_inst_retired.512b_packed_single</td>\n      <td>120849165006</td>\n      <td>120849165006</td>\n      <td>120849165006</td>\n      <td>120849165006</td>\n      <td>120849165006</td>\n      <td>1.208492e+11</td>\n    </tr>\n  </tbody>\n</table>\n</div>"
     },
     "metadata": {},
     "execution_count": 7
    }
   ],
   "source": [
    "mnist_train_each_batch"
   ]
  },
  {
   "cell_type": "code",
   "execution_count": 8,
   "metadata": {},
   "outputs": [
    {
     "output_type": "execute_result",
     "data": {
      "text/plain": [
       "                                 Event Name  mnist_train_papi  \\\n",
       "0                PERF_COUNT_HW_INSTRUCTIONS      1.926831e+11   \n",
       "1         PERF_COUNT_HW_BRANCH_INSTRUCTIONS      1.652379e+10   \n",
       "2                           L1-DCACHE-LOADS      6.695347e+10   \n",
       "3                          L1-DCACHE-STORES      1.545256e+10   \n",
       "4       fp_arith_inst_retired.scalar_double      2.472346e+08   \n",
       "5       fp_arith_inst_retired.scalar_single      1.546888e+08   \n",
       "6  fp_arith_inst_retired.128b_packed_single      1.505628e+07   \n",
       "7  fp_arith_inst_retired.256b_packed_single      3.403140e+06   \n",
       "8  fp_arith_inst_retired.512b_packed_single      1.226933e+11   \n",
       "\n",
       "   mnist_train_callback  mnist_train_each_epoch  mnist_train_each_batch  \n",
       "0          1.929248e+11            1.926282e+11            1.328327e+11  \n",
       "1          1.656340e+10            1.651191e+10            4.892971e+09  \n",
       "2          6.702425e+10            6.696376e+10            4.881499e+10  \n",
       "3          1.553569e+10            1.549955e+10            4.366766e+09  \n",
       "4          2.472812e+08            2.472353e+08            2.396614e+08  \n",
       "5          1.546888e+08            1.546887e+08            1.521151e+08  \n",
       "6          1.505628e+07            1.505628e+07            1.515000e+07  \n",
       "7          3.403140e+06            3.403140e+06            3.345001e+06  \n",
       "8          1.226933e+11            1.226933e+11            1.208492e+11  "
      ],
      "text/html": "<div>\n<style scoped>\n    .dataframe tbody tr th:only-of-type {\n        vertical-align: middle;\n    }\n\n    .dataframe tbody tr th {\n        vertical-align: top;\n    }\n\n    .dataframe thead th {\n        text-align: right;\n    }\n</style>\n<table border=\"1\" class=\"dataframe\">\n  <thead>\n    <tr style=\"text-align: right;\">\n      <th></th>\n      <th>Event Name</th>\n      <th>mnist_train_papi</th>\n      <th>mnist_train_callback</th>\n      <th>mnist_train_each_epoch</th>\n      <th>mnist_train_each_batch</th>\n    </tr>\n  </thead>\n  <tbody>\n    <tr>\n      <th>0</th>\n      <td>PERF_COUNT_HW_INSTRUCTIONS</td>\n      <td>1.926831e+11</td>\n      <td>1.929248e+11</td>\n      <td>1.926282e+11</td>\n      <td>1.328327e+11</td>\n    </tr>\n    <tr>\n      <th>1</th>\n      <td>PERF_COUNT_HW_BRANCH_INSTRUCTIONS</td>\n      <td>1.652379e+10</td>\n      <td>1.656340e+10</td>\n      <td>1.651191e+10</td>\n      <td>4.892971e+09</td>\n    </tr>\n    <tr>\n      <th>2</th>\n      <td>L1-DCACHE-LOADS</td>\n      <td>6.695347e+10</td>\n      <td>6.702425e+10</td>\n      <td>6.696376e+10</td>\n      <td>4.881499e+10</td>\n    </tr>\n    <tr>\n      <th>3</th>\n      <td>L1-DCACHE-STORES</td>\n      <td>1.545256e+10</td>\n      <td>1.553569e+10</td>\n      <td>1.549955e+10</td>\n      <td>4.366766e+09</td>\n    </tr>\n    <tr>\n      <th>4</th>\n      <td>fp_arith_inst_retired.scalar_double</td>\n      <td>2.472346e+08</td>\n      <td>2.472812e+08</td>\n      <td>2.472353e+08</td>\n      <td>2.396614e+08</td>\n    </tr>\n    <tr>\n      <th>5</th>\n      <td>fp_arith_inst_retired.scalar_single</td>\n      <td>1.546888e+08</td>\n      <td>1.546888e+08</td>\n      <td>1.546887e+08</td>\n      <td>1.521151e+08</td>\n    </tr>\n    <tr>\n      <th>6</th>\n      <td>fp_arith_inst_retired.128b_packed_single</td>\n      <td>1.505628e+07</td>\n      <td>1.505628e+07</td>\n      <td>1.505628e+07</td>\n      <td>1.515000e+07</td>\n    </tr>\n    <tr>\n      <th>7</th>\n      <td>fp_arith_inst_retired.256b_packed_single</td>\n      <td>3.403140e+06</td>\n      <td>3.403140e+06</td>\n      <td>3.403140e+06</td>\n      <td>3.345001e+06</td>\n    </tr>\n    <tr>\n      <th>8</th>\n      <td>fp_arith_inst_retired.512b_packed_single</td>\n      <td>1.226933e+11</td>\n      <td>1.226933e+11</td>\n      <td>1.226933e+11</td>\n      <td>1.208492e+11</td>\n    </tr>\n  </tbody>\n</table>\n</div>"
     },
     "metadata": {},
     "execution_count": 8
    }
   ],
   "source": [
    "# Join all the dataframes in another one\n",
    "events = pd.Series(mnist_train_papi[\"Event Name\"].unique())\n",
    "data = [events, mnist_train_papi['Avg'], mnist_train_callback['Avg'], mnist_train_each_epoch['Avg'], mnist_train_each_batch['Avg']]\n",
    "headers = ['Event Name', 'mnist_train_papi', 'mnist_train_callback', 'mnist_train_each_epoch', 'mnist_train_each_batch']\n",
    "df5 = pd.concat(data, axis=1, keys=headers)\n",
    "#df5['Value_diff'] = (df3['df1'] - df3['df2']).abs()\n",
    "df5"
   ]
  },
  {
   "cell_type": "code",
   "execution_count": 9,
   "metadata": {},
   "outputs": [],
   "source": [
    "# ------------------------------------------------------------------------------------------------------------------------"
   ]
  },
  {
   "cell_type": "code",
   "execution_count": 10,
   "metadata": {},
   "outputs": [],
   "source": [
    "# Options used:\n",
    "# -------------\n",
    "# MULTI-THREAD. inter = intra = default\n",
    "# Medida en la fase de entrenamiento (fit())\n",
    "# Se ha ejecutado el programa 5 veces. 30 epochs en cada una de ellas.\n",
    "# --------------------------------------------------------------------\n",
    "\n",
    "# -----------------------------------------------------------------------------------------------\n",
    "# Name of csv file\n",
    "csv_file = \"/home/jlpadillas01/TFG/tests/tensorflow/mnist/out/multi_thread/mnist_train_papi.csv\"\n",
    "# plot_each_iter(csv_file)\n",
    "mnist_train_papi = df_from_csv(csv_file)\n",
    "# -----------------------------------------------------------------------------------------------\n",
    "\n",
    "# ---------------------------------------------------------------------------------------------------\n",
    "# Name of csv file\n",
    "csv_file = \"/home/jlpadillas01/TFG/tests/tensorflow/mnist/out/multi_thread/mnist_train_callback.csv\"\n",
    "# plot_each_iter(csv_file)\n",
    "mnist_train_callback = df_from_csv(csv_file)\n",
    "# ---------------------------------------------------------------------------------------------------\n",
    "\n",
    "# -----------------------------------------------------------------------------------------------------\n",
    "# Name of csv file\n",
    "csv_file = \"/home/jlpadillas01/TFG/tests/tensorflow/mnist/out/multi_thread/mnist_train_each_epoch.csv\"\n",
    "# plot_each_iter(csv_file)\n",
    "mnist_train_each_epoch = df_from_csv(csv_file)\n",
    "# -----------------------------------------------------------------------------------------------------\n",
    "\n",
    "# -----------------------------------------------------------------------------------------------------\n",
    "# Name of csv file\n",
    "csv_file = \"/home/jlpadillas01/TFG/tests/tensorflow/mnist/out/multi_thread/mnist_train_each_batch.csv\"\n",
    "# plot_each_iter(csv_file)\n",
    "mnist_train_each_batch = df_from_csv(csv_file)\n",
    "# -----------------------------------------------------------------------------------------------------"
   ]
  },
  {
   "cell_type": "code",
   "execution_count": 11,
   "metadata": {},
   "outputs": [
    {
     "output_type": "execute_result",
     "data": {
      "text/plain": [
       "                                 Event Name       Measure_1       Measure_2  \\\n",
       "0                PERF_COUNT_HW_INSTRUCTIONS  23298747362626  25964703741719   \n",
       "1         PERF_COUNT_HW_BRANCH_INSTRUCTIONS   7608326105049   8513537406152   \n",
       "2                           L1-DCACHE-LOADS   7870128923280   8735473728623   \n",
       "3                          L1-DCACHE-STORES    164468160091    133908013732   \n",
       "4       fp_arith_inst_retired.scalar_double       258964894       258690412   \n",
       "5       fp_arith_inst_retired.scalar_single       192381623       192381623   \n",
       "6  fp_arith_inst_retired.128b_packed_single        15056280        15056280   \n",
       "7  fp_arith_inst_retired.256b_packed_single       125503140       125503140   \n",
       "8  fp_arith_inst_retired.512b_packed_single    122371082190    122371082190   \n",
       "\n",
       "        Measure_3       Measure_4       Measure_5           Avg  \n",
       "0  46157936202742  37392257673163  30438780353629  3.265049e+13  \n",
       "1  15226188747340  12312421746785   9998957529395  1.073189e+13  \n",
       "2  15492898563754  12564929704817  10241230246823  1.098093e+13  \n",
       "3    167241112028    156853908825    149518174847  1.543979e+11  \n",
       "4       259152844       259081624       259006118  2.589792e+08  \n",
       "5       192381623       192381623       192381623  1.923816e+08  \n",
       "6        15056280        15056280        15056280  1.505628e+07  \n",
       "7       125503140       125503140       125503140  1.255031e+08  \n",
       "8    122371082190    122371082190    122371082190  1.223711e+11  "
      ],
      "text/html": "<div>\n<style scoped>\n    .dataframe tbody tr th:only-of-type {\n        vertical-align: middle;\n    }\n\n    .dataframe tbody tr th {\n        vertical-align: top;\n    }\n\n    .dataframe thead th {\n        text-align: right;\n    }\n</style>\n<table border=\"1\" class=\"dataframe\">\n  <thead>\n    <tr style=\"text-align: right;\">\n      <th></th>\n      <th>Event Name</th>\n      <th>Measure_1</th>\n      <th>Measure_2</th>\n      <th>Measure_3</th>\n      <th>Measure_4</th>\n      <th>Measure_5</th>\n      <th>Avg</th>\n    </tr>\n  </thead>\n  <tbody>\n    <tr>\n      <th>0</th>\n      <td>PERF_COUNT_HW_INSTRUCTIONS</td>\n      <td>23298747362626</td>\n      <td>25964703741719</td>\n      <td>46157936202742</td>\n      <td>37392257673163</td>\n      <td>30438780353629</td>\n      <td>3.265049e+13</td>\n    </tr>\n    <tr>\n      <th>1</th>\n      <td>PERF_COUNT_HW_BRANCH_INSTRUCTIONS</td>\n      <td>7608326105049</td>\n      <td>8513537406152</td>\n      <td>15226188747340</td>\n      <td>12312421746785</td>\n      <td>9998957529395</td>\n      <td>1.073189e+13</td>\n    </tr>\n    <tr>\n      <th>2</th>\n      <td>L1-DCACHE-LOADS</td>\n      <td>7870128923280</td>\n      <td>8735473728623</td>\n      <td>15492898563754</td>\n      <td>12564929704817</td>\n      <td>10241230246823</td>\n      <td>1.098093e+13</td>\n    </tr>\n    <tr>\n      <th>3</th>\n      <td>L1-DCACHE-STORES</td>\n      <td>164468160091</td>\n      <td>133908013732</td>\n      <td>167241112028</td>\n      <td>156853908825</td>\n      <td>149518174847</td>\n      <td>1.543979e+11</td>\n    </tr>\n    <tr>\n      <th>4</th>\n      <td>fp_arith_inst_retired.scalar_double</td>\n      <td>258964894</td>\n      <td>258690412</td>\n      <td>259152844</td>\n      <td>259081624</td>\n      <td>259006118</td>\n      <td>2.589792e+08</td>\n    </tr>\n    <tr>\n      <th>5</th>\n      <td>fp_arith_inst_retired.scalar_single</td>\n      <td>192381623</td>\n      <td>192381623</td>\n      <td>192381623</td>\n      <td>192381623</td>\n      <td>192381623</td>\n      <td>1.923816e+08</td>\n    </tr>\n    <tr>\n      <th>6</th>\n      <td>fp_arith_inst_retired.128b_packed_single</td>\n      <td>15056280</td>\n      <td>15056280</td>\n      <td>15056280</td>\n      <td>15056280</td>\n      <td>15056280</td>\n      <td>1.505628e+07</td>\n    </tr>\n    <tr>\n      <th>7</th>\n      <td>fp_arith_inst_retired.256b_packed_single</td>\n      <td>125503140</td>\n      <td>125503140</td>\n      <td>125503140</td>\n      <td>125503140</td>\n      <td>125503140</td>\n      <td>1.255031e+08</td>\n    </tr>\n    <tr>\n      <th>8</th>\n      <td>fp_arith_inst_retired.512b_packed_single</td>\n      <td>122371082190</td>\n      <td>122371082190</td>\n      <td>122371082190</td>\n      <td>122371082190</td>\n      <td>122371082190</td>\n      <td>1.223711e+11</td>\n    </tr>\n  </tbody>\n</table>\n</div>"
     },
     "metadata": {},
     "execution_count": 11
    }
   ],
   "source": [
    "mnist_train_papi"
   ]
  },
  {
   "cell_type": "code",
   "execution_count": 12,
   "metadata": {},
   "outputs": [
    {
     "output_type": "execute_result",
     "data": {
      "text/plain": [
       "                                 Event Name       Measure_1       Measure_2  \\\n",
       "0                PERF_COUNT_HW_INSTRUCTIONS  30236170340221  29559933890118   \n",
       "1         PERF_COUNT_HW_BRANCH_INSTRUCTIONS   9921311872763   9718532938308   \n",
       "2                           L1-DCACHE-LOADS  10181789407345   9932438246589   \n",
       "3                          L1-DCACHE-STORES    163367456678    127701892346   \n",
       "4       fp_arith_inst_retired.scalar_double       258988131       258747856   \n",
       "5       fp_arith_inst_retired.scalar_single       192381623       192381623   \n",
       "6  fp_arith_inst_retired.128b_packed_single        15056280        15056280   \n",
       "7  fp_arith_inst_retired.256b_packed_single       125503140       125503140   \n",
       "8  fp_arith_inst_retired.512b_packed_single    122371082190    122371082190   \n",
       "\n",
       "        Measure_3      Measure_4       Measure_5           Avg  \n",
       "0  22720768262223  3082168498020  27973808606541  2.271457e+13  \n",
       "1   7431754634352   935628040675   9174846728630  7.436415e+12  \n",
       "2   7655889454779  1047989754755   9423698968838  7.648361e+12  \n",
       "3    135563084918    50633698600    154203687712  1.262940e+11  \n",
       "4       258674615      257574796       259013558  2.585998e+08  \n",
       "5       192381623      192381623       192381623  1.923816e+08  \n",
       "6        15056280       15056280        15056280  1.505628e+07  \n",
       "7       125503140      125503140       125503140  1.255031e+08  \n",
       "8    122371082190   122371082190    122371082190  1.223711e+11  "
      ],
      "text/html": "<div>\n<style scoped>\n    .dataframe tbody tr th:only-of-type {\n        vertical-align: middle;\n    }\n\n    .dataframe tbody tr th {\n        vertical-align: top;\n    }\n\n    .dataframe thead th {\n        text-align: right;\n    }\n</style>\n<table border=\"1\" class=\"dataframe\">\n  <thead>\n    <tr style=\"text-align: right;\">\n      <th></th>\n      <th>Event Name</th>\n      <th>Measure_1</th>\n      <th>Measure_2</th>\n      <th>Measure_3</th>\n      <th>Measure_4</th>\n      <th>Measure_5</th>\n      <th>Avg</th>\n    </tr>\n  </thead>\n  <tbody>\n    <tr>\n      <th>0</th>\n      <td>PERF_COUNT_HW_INSTRUCTIONS</td>\n      <td>30236170340221</td>\n      <td>29559933890118</td>\n      <td>22720768262223</td>\n      <td>3082168498020</td>\n      <td>27973808606541</td>\n      <td>2.271457e+13</td>\n    </tr>\n    <tr>\n      <th>1</th>\n      <td>PERF_COUNT_HW_BRANCH_INSTRUCTIONS</td>\n      <td>9921311872763</td>\n      <td>9718532938308</td>\n      <td>7431754634352</td>\n      <td>935628040675</td>\n      <td>9174846728630</td>\n      <td>7.436415e+12</td>\n    </tr>\n    <tr>\n      <th>2</th>\n      <td>L1-DCACHE-LOADS</td>\n      <td>10181789407345</td>\n      <td>9932438246589</td>\n      <td>7655889454779</td>\n      <td>1047989754755</td>\n      <td>9423698968838</td>\n      <td>7.648361e+12</td>\n    </tr>\n    <tr>\n      <th>3</th>\n      <td>L1-DCACHE-STORES</td>\n      <td>163367456678</td>\n      <td>127701892346</td>\n      <td>135563084918</td>\n      <td>50633698600</td>\n      <td>154203687712</td>\n      <td>1.262940e+11</td>\n    </tr>\n    <tr>\n      <th>4</th>\n      <td>fp_arith_inst_retired.scalar_double</td>\n      <td>258988131</td>\n      <td>258747856</td>\n      <td>258674615</td>\n      <td>257574796</td>\n      <td>259013558</td>\n      <td>2.585998e+08</td>\n    </tr>\n    <tr>\n      <th>5</th>\n      <td>fp_arith_inst_retired.scalar_single</td>\n      <td>192381623</td>\n      <td>192381623</td>\n      <td>192381623</td>\n      <td>192381623</td>\n      <td>192381623</td>\n      <td>1.923816e+08</td>\n    </tr>\n    <tr>\n      <th>6</th>\n      <td>fp_arith_inst_retired.128b_packed_single</td>\n      <td>15056280</td>\n      <td>15056280</td>\n      <td>15056280</td>\n      <td>15056280</td>\n      <td>15056280</td>\n      <td>1.505628e+07</td>\n    </tr>\n    <tr>\n      <th>7</th>\n      <td>fp_arith_inst_retired.256b_packed_single</td>\n      <td>125503140</td>\n      <td>125503140</td>\n      <td>125503140</td>\n      <td>125503140</td>\n      <td>125503140</td>\n      <td>1.255031e+08</td>\n    </tr>\n    <tr>\n      <th>8</th>\n      <td>fp_arith_inst_retired.512b_packed_single</td>\n      <td>122371082190</td>\n      <td>122371082190</td>\n      <td>122371082190</td>\n      <td>122371082190</td>\n      <td>122371082190</td>\n      <td>1.223711e+11</td>\n    </tr>\n  </tbody>\n</table>\n</div>"
     },
     "metadata": {},
     "execution_count": 12
    }
   ],
   "source": [
    "mnist_train_callback"
   ]
  },
  {
   "cell_type": "code",
   "execution_count": 13,
   "metadata": {},
   "outputs": [
    {
     "output_type": "execute_result",
     "data": {
      "text/plain": [
       "                                 Event Name       Measure_1       Measure_2  \\\n",
       "0                PERF_COUNT_HW_INSTRUCTIONS  27228335791801  11752306385190   \n",
       "1         PERF_COUNT_HW_BRANCH_INSTRUCTIONS   8925917971254   3795542897736   \n",
       "2                           L1-DCACHE-LOADS   9169403620156   3976029349322   \n",
       "3                          L1-DCACHE-STORES    150059269224    102434934735   \n",
       "4       fp_arith_inst_retired.scalar_double       258614844       258249176   \n",
       "5       fp_arith_inst_retired.scalar_single       192381563       192381563   \n",
       "6  fp_arith_inst_retired.128b_packed_single        15056280        15056280   \n",
       "7  fp_arith_inst_retired.256b_packed_single       125503140       125503140   \n",
       "8  fp_arith_inst_retired.512b_packed_single    122371082190    122371082190   \n",
       "\n",
       "        Measure_3       Measure_4       Measure_5           Avg  \n",
       "0  13542409581314  23341353358383  31960808300622  2.156504e+13  \n",
       "1   4399505653811   7647736514295  10496603757213  7.053061e+12  \n",
       "2   4564977926745   7853129349996  10755498879397  7.263808e+12  \n",
       "3     91177258991    121005404127    161840704097  1.253035e+11  \n",
       "4       258125715       258534363       258976877  2.585002e+08  \n",
       "5       192381563       192381563       192381563  1.923816e+08  \n",
       "6        15056280        15056280        15056280  1.505628e+07  \n",
       "7       125503140       125503140       125503140  1.255031e+08  \n",
       "8    122371082190    122371082190    122371082190  1.223711e+11  "
      ],
      "text/html": "<div>\n<style scoped>\n    .dataframe tbody tr th:only-of-type {\n        vertical-align: middle;\n    }\n\n    .dataframe tbody tr th {\n        vertical-align: top;\n    }\n\n    .dataframe thead th {\n        text-align: right;\n    }\n</style>\n<table border=\"1\" class=\"dataframe\">\n  <thead>\n    <tr style=\"text-align: right;\">\n      <th></th>\n      <th>Event Name</th>\n      <th>Measure_1</th>\n      <th>Measure_2</th>\n      <th>Measure_3</th>\n      <th>Measure_4</th>\n      <th>Measure_5</th>\n      <th>Avg</th>\n    </tr>\n  </thead>\n  <tbody>\n    <tr>\n      <th>0</th>\n      <td>PERF_COUNT_HW_INSTRUCTIONS</td>\n      <td>27228335791801</td>\n      <td>11752306385190</td>\n      <td>13542409581314</td>\n      <td>23341353358383</td>\n      <td>31960808300622</td>\n      <td>2.156504e+13</td>\n    </tr>\n    <tr>\n      <th>1</th>\n      <td>PERF_COUNT_HW_BRANCH_INSTRUCTIONS</td>\n      <td>8925917971254</td>\n      <td>3795542897736</td>\n      <td>4399505653811</td>\n      <td>7647736514295</td>\n      <td>10496603757213</td>\n      <td>7.053061e+12</td>\n    </tr>\n    <tr>\n      <th>2</th>\n      <td>L1-DCACHE-LOADS</td>\n      <td>9169403620156</td>\n      <td>3976029349322</td>\n      <td>4564977926745</td>\n      <td>7853129349996</td>\n      <td>10755498879397</td>\n      <td>7.263808e+12</td>\n    </tr>\n    <tr>\n      <th>3</th>\n      <td>L1-DCACHE-STORES</td>\n      <td>150059269224</td>\n      <td>102434934735</td>\n      <td>91177258991</td>\n      <td>121005404127</td>\n      <td>161840704097</td>\n      <td>1.253035e+11</td>\n    </tr>\n    <tr>\n      <th>4</th>\n      <td>fp_arith_inst_retired.scalar_double</td>\n      <td>258614844</td>\n      <td>258249176</td>\n      <td>258125715</td>\n      <td>258534363</td>\n      <td>258976877</td>\n      <td>2.585002e+08</td>\n    </tr>\n    <tr>\n      <th>5</th>\n      <td>fp_arith_inst_retired.scalar_single</td>\n      <td>192381563</td>\n      <td>192381563</td>\n      <td>192381563</td>\n      <td>192381563</td>\n      <td>192381563</td>\n      <td>1.923816e+08</td>\n    </tr>\n    <tr>\n      <th>6</th>\n      <td>fp_arith_inst_retired.128b_packed_single</td>\n      <td>15056280</td>\n      <td>15056280</td>\n      <td>15056280</td>\n      <td>15056280</td>\n      <td>15056280</td>\n      <td>1.505628e+07</td>\n    </tr>\n    <tr>\n      <th>7</th>\n      <td>fp_arith_inst_retired.256b_packed_single</td>\n      <td>125503140</td>\n      <td>125503140</td>\n      <td>125503140</td>\n      <td>125503140</td>\n      <td>125503140</td>\n      <td>1.255031e+08</td>\n    </tr>\n    <tr>\n      <th>8</th>\n      <td>fp_arith_inst_retired.512b_packed_single</td>\n      <td>122371082190</td>\n      <td>122371082190</td>\n      <td>122371082190</td>\n      <td>122371082190</td>\n      <td>122371082190</td>\n      <td>1.223711e+11</td>\n    </tr>\n  </tbody>\n</table>\n</div>"
     },
     "metadata": {},
     "execution_count": 13
    }
   ],
   "source": [
    "mnist_train_each_epoch"
   ]
  },
  {
   "cell_type": "code",
   "execution_count": 14,
   "metadata": {},
   "outputs": [
    {
     "output_type": "execute_result",
     "data": {
      "text/plain": [
       "                                 Event Name      Measure_1      Measure_2  \\\n",
       "0                PERF_COUNT_HW_INSTRUCTIONS  9373154063296  9483926853190   \n",
       "1         PERF_COUNT_HW_BRANCH_INSTRUCTIONS  3030577873633  3066212401833   \n",
       "2                           L1-DCACHE-LOADS  3184902082030  3223566134901   \n",
       "3                          L1-DCACHE-STORES    79939890469    82229021217   \n",
       "4       fp_arith_inst_retired.scalar_double      242825187      242852684   \n",
       "5       fp_arith_inst_retired.scalar_single      173081636      173083852   \n",
       "6  fp_arith_inst_retired.128b_packed_single       15150000       15150000   \n",
       "7  fp_arith_inst_retired.256b_packed_single      125439804      125439527   \n",
       "8  fp_arith_inst_retired.512b_packed_single   120499485006   120499485006   \n",
       "\n",
       "       Measure_3      Measure_4      Measure_5           Avg  \n",
       "0  9687846283977  9245447629734  9348522619052  9.427779e+12  \n",
       "1  3133882404455  2987024374080  3020818723198  3.047703e+12  \n",
       "2  3292142940046  3143537215693  3178761108079  3.204582e+12  \n",
       "3    82927332030    81624641062    82641598904  8.187250e+10  \n",
       "4      242837873      242845582      242790508  2.428304e+08  \n",
       "5      173080716      173082340      173083604  1.730824e+08  \n",
       "6       15150000       15150000       15150000  1.515000e+07  \n",
       "7      125439919      125439716      125439558  1.254397e+08  \n",
       "8   120499485006   120499485006   120499485006  1.204995e+11  "
      ],
      "text/html": "<div>\n<style scoped>\n    .dataframe tbody tr th:only-of-type {\n        vertical-align: middle;\n    }\n\n    .dataframe tbody tr th {\n        vertical-align: top;\n    }\n\n    .dataframe thead th {\n        text-align: right;\n    }\n</style>\n<table border=\"1\" class=\"dataframe\">\n  <thead>\n    <tr style=\"text-align: right;\">\n      <th></th>\n      <th>Event Name</th>\n      <th>Measure_1</th>\n      <th>Measure_2</th>\n      <th>Measure_3</th>\n      <th>Measure_4</th>\n      <th>Measure_5</th>\n      <th>Avg</th>\n    </tr>\n  </thead>\n  <tbody>\n    <tr>\n      <th>0</th>\n      <td>PERF_COUNT_HW_INSTRUCTIONS</td>\n      <td>9373154063296</td>\n      <td>9483926853190</td>\n      <td>9687846283977</td>\n      <td>9245447629734</td>\n      <td>9348522619052</td>\n      <td>9.427779e+12</td>\n    </tr>\n    <tr>\n      <th>1</th>\n      <td>PERF_COUNT_HW_BRANCH_INSTRUCTIONS</td>\n      <td>3030577873633</td>\n      <td>3066212401833</td>\n      <td>3133882404455</td>\n      <td>2987024374080</td>\n      <td>3020818723198</td>\n      <td>3.047703e+12</td>\n    </tr>\n    <tr>\n      <th>2</th>\n      <td>L1-DCACHE-LOADS</td>\n      <td>3184902082030</td>\n      <td>3223566134901</td>\n      <td>3292142940046</td>\n      <td>3143537215693</td>\n      <td>3178761108079</td>\n      <td>3.204582e+12</td>\n    </tr>\n    <tr>\n      <th>3</th>\n      <td>L1-DCACHE-STORES</td>\n      <td>79939890469</td>\n      <td>82229021217</td>\n      <td>82927332030</td>\n      <td>81624641062</td>\n      <td>82641598904</td>\n      <td>8.187250e+10</td>\n    </tr>\n    <tr>\n      <th>4</th>\n      <td>fp_arith_inst_retired.scalar_double</td>\n      <td>242825187</td>\n      <td>242852684</td>\n      <td>242837873</td>\n      <td>242845582</td>\n      <td>242790508</td>\n      <td>2.428304e+08</td>\n    </tr>\n    <tr>\n      <th>5</th>\n      <td>fp_arith_inst_retired.scalar_single</td>\n      <td>173081636</td>\n      <td>173083852</td>\n      <td>173080716</td>\n      <td>173082340</td>\n      <td>173083604</td>\n      <td>1.730824e+08</td>\n    </tr>\n    <tr>\n      <th>6</th>\n      <td>fp_arith_inst_retired.128b_packed_single</td>\n      <td>15150000</td>\n      <td>15150000</td>\n      <td>15150000</td>\n      <td>15150000</td>\n      <td>15150000</td>\n      <td>1.515000e+07</td>\n    </tr>\n    <tr>\n      <th>7</th>\n      <td>fp_arith_inst_retired.256b_packed_single</td>\n      <td>125439804</td>\n      <td>125439527</td>\n      <td>125439919</td>\n      <td>125439716</td>\n      <td>125439558</td>\n      <td>1.254397e+08</td>\n    </tr>\n    <tr>\n      <th>8</th>\n      <td>fp_arith_inst_retired.512b_packed_single</td>\n      <td>120499485006</td>\n      <td>120499485006</td>\n      <td>120499485006</td>\n      <td>120499485006</td>\n      <td>120499485006</td>\n      <td>1.204995e+11</td>\n    </tr>\n  </tbody>\n</table>\n</div>"
     },
     "metadata": {},
     "execution_count": 14
    }
   ],
   "source": [
    "mnist_train_each_batch"
   ]
  },
  {
   "cell_type": "code",
   "execution_count": 15,
   "metadata": {},
   "outputs": [
    {
     "output_type": "execute_result",
     "data": {
      "text/plain": [
       "                                 Event Name  mnist_train_papi  \\\n",
       "0                PERF_COUNT_HW_INSTRUCTIONS      3.265049e+13   \n",
       "1         PERF_COUNT_HW_BRANCH_INSTRUCTIONS      1.073189e+13   \n",
       "2                           L1-DCACHE-LOADS      1.098093e+13   \n",
       "3                          L1-DCACHE-STORES      1.543979e+11   \n",
       "4       fp_arith_inst_retired.scalar_double      2.589792e+08   \n",
       "5       fp_arith_inst_retired.scalar_single      1.923816e+08   \n",
       "6  fp_arith_inst_retired.128b_packed_single      1.505628e+07   \n",
       "7  fp_arith_inst_retired.256b_packed_single      1.255031e+08   \n",
       "8  fp_arith_inst_retired.512b_packed_single      1.223711e+11   \n",
       "\n",
       "   mnist_train_callback  mnist_train_each_epoch  mnist_train_each_batch  \n",
       "0          2.271457e+13            2.156504e+13            9.427779e+12  \n",
       "1          7.436415e+12            7.053061e+12            3.047703e+12  \n",
       "2          7.648361e+12            7.263808e+12            3.204582e+12  \n",
       "3          1.262940e+11            1.253035e+11            8.187250e+10  \n",
       "4          2.585998e+08            2.585002e+08            2.428304e+08  \n",
       "5          1.923816e+08            1.923816e+08            1.730824e+08  \n",
       "6          1.505628e+07            1.505628e+07            1.515000e+07  \n",
       "7          1.255031e+08            1.255031e+08            1.254397e+08  \n",
       "8          1.223711e+11            1.223711e+11            1.204995e+11  "
      ],
      "text/html": "<div>\n<style scoped>\n    .dataframe tbody tr th:only-of-type {\n        vertical-align: middle;\n    }\n\n    .dataframe tbody tr th {\n        vertical-align: top;\n    }\n\n    .dataframe thead th {\n        text-align: right;\n    }\n</style>\n<table border=\"1\" class=\"dataframe\">\n  <thead>\n    <tr style=\"text-align: right;\">\n      <th></th>\n      <th>Event Name</th>\n      <th>mnist_train_papi</th>\n      <th>mnist_train_callback</th>\n      <th>mnist_train_each_epoch</th>\n      <th>mnist_train_each_batch</th>\n    </tr>\n  </thead>\n  <tbody>\n    <tr>\n      <th>0</th>\n      <td>PERF_COUNT_HW_INSTRUCTIONS</td>\n      <td>3.265049e+13</td>\n      <td>2.271457e+13</td>\n      <td>2.156504e+13</td>\n      <td>9.427779e+12</td>\n    </tr>\n    <tr>\n      <th>1</th>\n      <td>PERF_COUNT_HW_BRANCH_INSTRUCTIONS</td>\n      <td>1.073189e+13</td>\n      <td>7.436415e+12</td>\n      <td>7.053061e+12</td>\n      <td>3.047703e+12</td>\n    </tr>\n    <tr>\n      <th>2</th>\n      <td>L1-DCACHE-LOADS</td>\n      <td>1.098093e+13</td>\n      <td>7.648361e+12</td>\n      <td>7.263808e+12</td>\n      <td>3.204582e+12</td>\n    </tr>\n    <tr>\n      <th>3</th>\n      <td>L1-DCACHE-STORES</td>\n      <td>1.543979e+11</td>\n      <td>1.262940e+11</td>\n      <td>1.253035e+11</td>\n      <td>8.187250e+10</td>\n    </tr>\n    <tr>\n      <th>4</th>\n      <td>fp_arith_inst_retired.scalar_double</td>\n      <td>2.589792e+08</td>\n      <td>2.585998e+08</td>\n      <td>2.585002e+08</td>\n      <td>2.428304e+08</td>\n    </tr>\n    <tr>\n      <th>5</th>\n      <td>fp_arith_inst_retired.scalar_single</td>\n      <td>1.923816e+08</td>\n      <td>1.923816e+08</td>\n      <td>1.923816e+08</td>\n      <td>1.730824e+08</td>\n    </tr>\n    <tr>\n      <th>6</th>\n      <td>fp_arith_inst_retired.128b_packed_single</td>\n      <td>1.505628e+07</td>\n      <td>1.505628e+07</td>\n      <td>1.505628e+07</td>\n      <td>1.515000e+07</td>\n    </tr>\n    <tr>\n      <th>7</th>\n      <td>fp_arith_inst_retired.256b_packed_single</td>\n      <td>1.255031e+08</td>\n      <td>1.255031e+08</td>\n      <td>1.255031e+08</td>\n      <td>1.254397e+08</td>\n    </tr>\n    <tr>\n      <th>8</th>\n      <td>fp_arith_inst_retired.512b_packed_single</td>\n      <td>1.223711e+11</td>\n      <td>1.223711e+11</td>\n      <td>1.223711e+11</td>\n      <td>1.204995e+11</td>\n    </tr>\n  </tbody>\n</table>\n</div>"
     },
     "metadata": {},
     "execution_count": 15
    }
   ],
   "source": [
    "# Join all the dataframes in another one\n",
    "events = pd.Series(mnist_train_papi[\"Event Name\"].unique())\n",
    "data = [events, mnist_train_papi['Avg'], mnist_train_callback['Avg'], mnist_train_each_epoch['Avg'], mnist_train_each_batch['Avg']]\n",
    "headers = ['Event Name', 'mnist_train_papi', 'mnist_train_callback', 'mnist_train_each_epoch', 'mnist_train_each_batch']\n",
    "df10 = pd.concat(data, axis=1, keys=headers)\n",
    "#df5['Value_diff'] = (df3['df1'] - df3['df2']).abs()\n",
    "df10"
   ]
  }
 ]
}