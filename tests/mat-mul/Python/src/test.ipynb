{
 "metadata": {
  "language_info": {
   "codemirror_mode": {
    "name": "ipython",
    "version": 3
   },
   "file_extension": ".py",
   "mimetype": "text/x-python",
   "name": "python",
   "nbconvert_exporter": "python",
   "pygments_lexer": "ipython3",
   "version": "3.8.5"
  },
  "orig_nbformat": 2,
  "kernelspec": {
   "name": "python385jvsc74a57bd08d466f5fa6fb18530bca1f949177b1fcfe59f60d945432f26594dff26bd69283",
   "display_name": "Python 3.8.5 64-bit ('py3_tensorflow_env': venv)"
  },
  "metadata": {
   "interpreter": {
    "hash": "8d466f5fa6fb18530bca1f949177b1fcfe59f60d945432f26594dff26bd69283"
   }
  }
 },
 "nbformat": 4,
 "nbformat_minor": 2,
 "cells": [
  {
   "cell_type": "code",
   "execution_count": 29,
   "metadata": {},
   "outputs": [],
   "source": [
    "def init_seq(rows, cols):\n",
    "\n",
    "    M = []\n",
    "\n",
    "    for r in range(0, rows):\n",
    "        arr = []\n",
    "        for c in range(0, cols):\n",
    "            arr.append(float(r * cols + c))\n",
    "        M.append(arr)\n",
    "\n",
    "    return M"
   ]
  },
  {
   "cell_type": "code",
   "execution_count": 30,
   "metadata": {},
   "outputs": [
    {
     "output_type": "execute_result",
     "data": {
      "text/plain": [
       "[[0.0, 1.0, 2.0, 3.0],\n",
       " [4.0, 5.0, 6.0, 7.0],\n",
       " [8.0, 9.0, 10.0, 11.0],\n",
       " [12.0, 13.0, 14.0, 15.0]]"
      ]
     },
     "metadata": {},
     "execution_count": 30
    }
   ],
   "source": [
    "r = 4\n",
    "c = 4\n",
    "\n",
    "init_seq(r, c)"
   ]
  },
  {
   "cell_type": "code",
   "execution_count": null,
   "metadata": {},
   "outputs": [],
   "source": []
  }
 ]
}