{
 "metadata": {
  "language_info": {
   "codemirror_mode": {
    "name": "ipython",
    "version": 3
   },
   "file_extension": ".py",
   "mimetype": "text/x-python",
   "name": "python",
   "nbconvert_exporter": "python",
   "pygments_lexer": "ipython3",
   "version": "3.8.5"
  },
  "orig_nbformat": 2,
  "kernelspec": {
   "name": "python385jvsc74a57bd08d466f5fa6fb18530bca1f949177b1fcfe59f60d945432f26594dff26bd69283",
   "display_name": "Python 3.8.5 64-bit ('py3_tensorflow_env': venv)"
  },
  "metadata": {
   "interpreter": {
    "hash": "8d466f5fa6fb18530bca1f949177b1fcfe59f60d945432f26594dff26bd69283"
   }
  }
 },
 "nbformat": 4,
 "nbformat_minor": 2,
 "cells": [
  {
   "cell_type": "code",
   "execution_count": 16,
   "metadata": {},
   "outputs": [],
   "source": [
    "def init_seq(rows, cols):\n",
    "\n",
    "    M = []\n",
    "\n",
    "    for r in range(rows):\n",
    "        arr = []\n",
    "        for c in range(cols):\n",
    "            arr.append(float(r * cols + c))\n",
    "        M.append(arr)\n",
    "\n",
    "    return M\n",
    "\n",
    "# --------------------------------------- #\n",
    "\n",
    "def print_matrix(M):\n",
    "\n",
    "    rows = len(M)\n",
    "    cols = len(M[-1])\n",
    "\n",
    "    mat_str = \"\\n\"\n",
    "    for i in range(rows):\n",
    "        mat_str += \"|\\t\"\n",
    "        for j in range(cols):\n",
    "            mat_str += str(M[i][j]) + \"\\t\"\n",
    "            if j == cols - 1:\n",
    "                mat_str += \"|\\n\"\n",
    "    print(mat_str)\n",
    "\n",
    "# --------------------------------------- #\n",
    "\n",
    "def init_rand(rows, cols):\n",
    "    import random\n",
    "\n",
    "    M = []\n",
    "    for r in range(rows):\n",
    "        arr = []\n",
    "        for c in range(cols):\n",
    "            arr.append(float(random.randrange(10)))\n",
    "        M.append(arr)\n",
    "\n",
    "    return M"
   ]
  },
  {
   "cell_type": "code",
   "execution_count": 134,
   "metadata": {},
   "outputs": [
    {
     "output_type": "stream",
     "name": "stdout",
     "text": [
      "\n|\t8.0\t8.0\t7.0\t7.0\t3.0\t|\n|\t6.0\t9.0\t7.0\t4.0\t6.0\t|\n|\t7.0\t3.0\t4.0\t5.0\t6.0\t|\n|\t9.0\t7.0\t2.0\t8.0\t2.0\t|\n|\t9.0\t0.0\t4.0\t2.0\t9.0\t|\n\n\n|\t1.0\t3.0\t9.0\t0.0\t6.0\t|\n|\t7.0\t4.0\t3.0\t5.0\t7.0\t|\n|\t5.0\t2.0\t8.0\t6.0\t8.0\t|\n|\t1.0\t6.0\t4.0\t4.0\t1.0\t|\n|\t2.0\t2.0\t9.0\t9.0\t6.0\t|\n\n"
     ]
    }
   ],
   "source": [
    "r = 5\n",
    "c = 5\n",
    "\n",
    "M_a = init_rand(r, c)\n",
    "print_matrix(M_a)\n",
    "\n",
    "M_b = init_rand(r, c)\n",
    "print_matrix(M_b)"
   ]
  },
  {
   "cell_type": "code",
   "execution_count": 135,
   "metadata": {},
   "outputs": [
    {
     "output_type": "execute_result",
     "data": {
      "text/plain": [
       "array([[112., 118., 207., 137., 185.],\n",
       "       [120., 104., 207., 157., 195.],\n",
       "       [ 65.,  83., 178., 113., 136.],\n",
       "       [ 80., 111., 168.,  97., 139.],\n",
       "       [ 49.,  65., 202., 113., 142.]])"
      ]
     },
     "metadata": {},
     "execution_count": 135
    }
   ],
   "source": [
    "import numpy as np\n",
    "np.matmul(M_a, M_b)"
   ]
  },
  {
   "cell_type": "code",
   "execution_count": 147,
   "metadata": {},
   "outputs": [],
   "source": [
    "def mat_mul(M_a, M_b):\n",
    "    rows_a = len(M_a)\n",
    "    cols_a = len(M_a[-1])\n",
    "    rows_b = len(M_b)\n",
    "    cols_b = len(M_b[-1])\n",
    "\n",
    "    if cols_a != rows_b:\n",
    "        print(\"[ERROR] #columns A must be equal to #rows B.\\n\")\n",
    "        sys.exit(-1)\n",
    "\n",
    "    M_c = []\n",
    "    for i in range(rows_a):\n",
    "        arr = []\n",
    "        for k in range(cols_b):\n",
    "            sum = 0.0\n",
    "            for j in range(cols_a):\n",
    "                sum += float(M_a[i][j]) * float(M_b[j][k])\n",
    "            arr.append(sum)\n",
    "        M_c.append(arr)\n",
    "    return M_c\n",
    "\n",
    "# --------------------------------------- #\n",
    "\n",
    "def mat_mul_transpose(M_a, M_b):\n",
    "    rows_a = len(M_a)\n",
    "    cols_a = len(M_a[-1])\n",
    "    rows_b = len(M_b)\n",
    "    cols_b = len(M_b[-1])\n",
    "\n",
    "    if cols_a != rows_b:\n",
    "        print(\"[ERROR] #columns A must be equal to #rows B.\\n\")\n",
    "        sys.exit(-1)\n",
    "\n",
    "    # Calculate the transpose\n",
    "    M_b_Tr = []\n",
    "    for i in range(rows_b):\n",
    "        arr = []\n",
    "        for j in range(cols_b):\n",
    "            arr.append(M_b[j][i])\n",
    "        M_b_Tr.append(arr)\n",
    "\n",
    "    M_c = []\n",
    "    for i in range(rows_a):\n",
    "        arr = []\n",
    "        for k in range(cols_b):\n",
    "            sum = 0.0\n",
    "            for j in range(cols_a):\n",
    "                sum += float(M_a[i][j]) * float(M_b_Tr[k][j])\n",
    "            arr.append(sum)\n",
    "        M_c.append(arr)\n",
    "    return M_c\n",
    "\n",
    "# --------------------------------------- #\n",
    "\n",
    "def _multi(M_a, M_b, M_c, cols_c, rows_c):\n",
    "    cols_a = len(M_a[-1])\n",
    "    cols_b = len(M_b[-1])\n",
    "\n",
    "    aux = []\n",
    "    for i in range(rows_c[0], rows_c[1]):\n",
    "        arr = []\n",
    "        for k in range(cols_c[0], cols_c[1]):\n",
    "            sum = 0.0\n",
    "            for j in range(cols_a):\n",
    "                sum += float(M_a[i][j]) * float(M_b[j][k])\n",
    "            arr.append(sum)\n",
    "        aux.append(arr)\n",
    "\n",
    "    # Store the values in the result matrix\n",
    "    i = 0\n",
    "    for j in range(rows_c[0], rows_c[1]):\n",
    "        M_c[j] = aux[i]\n",
    "        i += 1\n",
    "\n",
    "def mat_mul_multithread(M_a, M_b):\n",
    "    import sys\n",
    "    import threading\n",
    "\n",
    "    NUM_THREADS = 2\n",
    "    rows_a = len(M_a)\n",
    "    cols_a = len(M_a[-1])\n",
    "    rows_b = len(M_b)\n",
    "    cols_b = len(M_b[-1])\n",
    "\n",
    "    if cols_a != rows_b:\n",
    "        print(\"[ERROR] #columns A must be equal to #rows B.\\n\")\n",
    "        sys.exit(-1)\n",
    "\n",
    "    rows_per_thread = int(rows_a / NUM_THREADS)\n",
    "    rest_of_matrix = rows_a % NUM_THREADS\n",
    "\n",
    "    # print(rows_per_thread, rest_of_matrix)\n",
    "    M_c = [[0.0] * cols_b] * rows_a\n",
    "\n",
    "    # Create and start the threads\n",
    "    threads = []\n",
    "    results = [None] * NUM_THREADS\n",
    "    for i in range(NUM_THREADS):\n",
    "        # Calculate the params to pass them to the thread\n",
    "        # TODO: The last thread operates the rest. Modify in a future and\n",
    "        # TODO: let the first thread to end, operate the rest.\n",
    "        cols_c_start = 0\n",
    "        cols_c_end = cols_b\n",
    "        rows_c_start = rows_per_thread * i\n",
    "        rows_c_end = rows_c_start + rows_per_thread\n",
    "\n",
    "        if (i == NUM_THREADS - 1) and (rest_of_matrix != 0):\n",
    "            rows_c_end += rest_of_matrix\n",
    "\n",
    "        cols_c = [cols_c_start, cols_c_end]\n",
    "        rows_c = [rows_c_start, rows_c_end]\n",
    "\n",
    "        t = threading.Thread(target=_multi, args=(M_a, M_b, M_c, cols_c, rows_c,))\n",
    "        threads.append(t)\n",
    "        t.start()\n",
    "\n",
    "    # Join the threads\n",
    "    for t in threads:\n",
    "        t.join()\n",
    "\n",
    "    return M_c"
   ]
  },
  {
   "cell_type": "code",
   "execution_count": 148,
   "metadata": {},
   "outputs": [
    {
     "output_type": "execute_result",
     "data": {
      "text/plain": [
       "[[112.0, 118.0, 207.0, 137.0, 185.0],\n",
       " [120.0, 104.0, 207.0, 157.0, 195.0],\n",
       " [65.0, 83.0, 178.0, 113.0, 136.0],\n",
       " [80.0, 111.0, 168.0, 97.0, 139.0],\n",
       " [49.0, 65.0, 202.0, 113.0, 142.0]]"
      ]
     },
     "metadata": {},
     "execution_count": 148
    }
   ],
   "source": [
    "mat_mul_multithread(M_a, M_b)"
   ]
  },
  {
   "cell_type": "code",
   "execution_count": 138,
   "metadata": {},
   "outputs": [
    {
     "output_type": "execute_result",
     "data": {
      "text/plain": [
       "[[112.0, 118.0, 207.0, 137.0, 185.0],\n",
       " [120.0, 104.0, 207.0, 157.0, 195.0],\n",
       " [65.0, 83.0, 178.0, 113.0, 136.0],\n",
       " [80.0, 111.0, 168.0, 97.0, 139.0],\n",
       " [49.0, 65.0, 202.0, 113.0, 142.0]]"
      ]
     },
     "metadata": {},
     "execution_count": 138
    }
   ],
   "source": [
    "mat_mul_transpose(M_a, M_b)"
   ]
  },
  {
   "cell_type": "code",
   "execution_count": 78,
   "metadata": {},
   "outputs": [
    {
     "output_type": "execute_result",
     "data": {
      "text/plain": [
       "[[26.0, 57.0], [5.0, 45.0]]"
      ]
     },
     "metadata": {},
     "execution_count": 78
    }
   ],
   "source": [
    "mat_mul(M_a, M_b)"
   ]
  },
  {
   "cell_type": "code",
   "execution_count": null,
   "metadata": {},
   "outputs": [],
   "source": []
  }
 ]
}