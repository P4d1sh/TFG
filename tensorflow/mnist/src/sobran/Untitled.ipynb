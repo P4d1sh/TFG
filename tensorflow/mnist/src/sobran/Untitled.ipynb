{
 "cells": [
  {
   "cell_type": "code",
   "execution_count": 1,
   "id": "foster-flight",
   "metadata": {},
   "outputs": [],
   "source": [
    "import os\n",
    "import pathlib\n",
    "import sys"
   ]
  },
  {
   "cell_type": "code",
   "execution_count": 2,
   "id": "graduate-course",
   "metadata": {},
   "outputs": [],
   "source": [
    "PWD = pathlib.Path(\"/home/jlpadillas01/TFG/mat_mul/Python\")\n",
    "SRC = PWD / \"src\"\n",
    "LIB = PWD / \"lib\"\n",
    "CFG = PWD / \"conf\"\n",
    "OUT = PWD / \"out\"\n",
    "# Add path\n",
    "sys.path.append(SRC) #pathlib.Path(SRC))\n",
    "\n",
    "# Imports\n",
    "from my_papi import my_papi\n",
    "\n",
    "# file\n",
    "my_lib_path = LIB / \"libmy_papi.so\""
   ]
  },
  {
   "cell_type": "code",
   "execution_count": 3,
   "id": "lesbian-oxford",
   "metadata": {},
   "outputs": [],
   "source": [
    "mp = my_papi(my_lib_path)"
   ]
  },
  {
   "cell_type": "code",
   "execution_count": 4,
   "metadata": {},
   "outputs": [],
   "source": [
    "events_file = str(CFG / \"events_pc.cfg\")\n",
    "html_file = str(OUT / \"index.html\")\n",
    "mp.prepare_measure(events_file)\n",
    "mp.create_table(html_file)"
   ]
  }
 ],
 "metadata": {
  "kernelspec": {
   "display_name": "Python 3",
   "language": "python",
   "name": "python3"
  },
  "language_info": {
   "codemirror_mode": {
    "name": "ipython",
    "version": 3
   },
   "file_extension": ".py",
   "mimetype": "text/x-python",
   "name": "python",
   "nbconvert_exporter": "python",
   "pygments_lexer": "ipython3",
   "version": "3.8.5"
  }
 },
 "nbformat": 4,
 "nbformat_minor": 5
}